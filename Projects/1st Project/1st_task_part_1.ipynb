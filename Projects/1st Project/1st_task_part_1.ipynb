{
 "cells": [
  {
   "cell_type": "markdown",
   "metadata": {
    "id": "CCcGFAb8nULW"
   },
   "source": [
    "# **Νευρωνικά Δίκτυα και Ευφυή Υπολογιστικά Συστήματα**\n",
    "\n",
    "\n",
    "---\n",
    "\n",
    "\n",
    "\n",
    "    \n",
    "\n",
    "---\n",
    "\n",
    "\n",
    "\n",
    "## Στόχος της εργασίας είναι η μελέτη και βελτιστοποίηση ταξινομητών σε σύνολα δεδομένων.\n"
   ]
  },
  {
   "cell_type": "markdown",
   "metadata": {
    "id": "dvu0Py-SIY2y"
   },
   "source": [
    "# **Μέρος 1. UCI dataset**\n",
    "\n",
    "### Στην ομάδα 38 αντιστοιχεί ο κωδικός *U02* του UCI dataset. Το dataset με το οποίο θα δουλέψουμε είναι το Planning Relax Data Set. Το dataset αφορά την ταξινόμηση δύο νοητικών σταδίων από καταγεγραμμένα σήματα ΗΕΓ(Ηλεκτροεγκεφαλογράφημα). To πρώτο στάδιο ονομάζεται **Planning** και αφορά την καταστάση όπου ο εξεταζόμενος βρισκόταν σε φάση χαλάρωσης και του ζητήθηκε να σκεφτεί νοερά την ανύψωση του δεξιού αντίχειρα για 5 δευτερόλεπτα, χωρίς προφανώς να υπάρξει κάμια κίνηση. Το δεύτερο στάδιο ονομάζεται **Relax** και αφορά την κατάσταση όπου ο εξεταζόμενος βρισκόταν σε χαλαρή κατάσταση για 5 λεπτά.\n",
    "\n"
   ]
  },
  {
   "cell_type": "markdown",
   "metadata": {
    "id": "omZyCl5B0c19"
   },
   "source": [
    "# Εισαγωγή και επισκόπηση\n",
    "\n",
    "###Τα δεδομένα του dataset συλλέχθηκαν από ένα υγιές δεξιόχειρα άτομο ηλικίας 25 ετών για 5 φορές σε διάφορες ημέρες. Ζητήθηκε από το άτομο να ξαπλώσει άνετα σε μια χαλαρή θέση με κλειστά μάτια και συμβουλεύτηκε να ελαχιστοποιήσει τις κινήσεις των ματιών. Τέλος κατά τη διάρκεια των μετρήσεων δεν εκτελέστηκε καμία πραγματική κίνηση κατά τη διάρκεια της συνεδρίας. Όλα τα σύνολα δεδομένων ελέγχθηκαν οπτικά για οποιαδήποτε artifacts πριν από την τελική επιλογή και προσθήκη στο dataset.\n",
    "\n",
    "###Το σύνολο δεδομένων έχει 182 δείγματα για αντίστοιχα ΗΕΓ και περιλαμβάνει 12 χαρακτηριστικά (attributes) για κάθε ΗΕΓ.\n",
    "\n",
    "###Το dataset χρειάστηκε να το επεξεργαστούμε διότι ανάμεσα στα χαρακτηριστικά υπήρχε tab space αντί για κόμμα, με αποτέλεσμα να έχουμε αρχικά 182 γραμμές και 1 κολώνα αντί για 182 γραμμές και 13 κολώνες. Έτσι κάναμε αντικατάσταση των tab space με κόμμα και τέλος διαγράψαμε την τελευταία κολώνα (14η) που προέκυψε όταν το tab space μετά την 13 κολώνα έγινε κόμμα.\n",
    "\n",
    "###Τα πρώτα 12 χαρακτηριστικά ουσιαστικά αποτελούν μετρήσεις που καταγράφθηκαν από τα ηλεκτρόδια, τα οποία τέθηκαν στην κεφαλή του εξεταζόμενου ατόμου. Η 13 κολώνα αποτελεί την κατάσταση του ατόμου, αν δηλαδή ήταν σε Planning ή Relax κατάσταση. Και οι 13 κολώνες έχουν αριθμητικά δεδομένα, όπου τα πρώτα 12 περιλαμβάνουν τις μετρήσεις που καταγράφηκαν.\n",
    "\n",
    "###Η 13η κολώνα περιλαμβάνει είτε την τιμή 1 είτε την τιμή 2. Εφόσον το Data Set Description δεν είναι διαθέσιμο υποθέτουμε πως η τιμή 1 ισούται με την κλάση Relax και η τιμή 2 ισούται με την κλάση Planning, διότι η τιμή 1 είναι πιο συχνά εμφανιζόμενη και παρατηρούμε πως η διάρκεια της Relax κατάστασης στη διάρκεια των εξετάσεων ήταν 5 λεπτά ενώ η διάρκεια της κατάστασης Planning ήταν μόλις 5 δευτερόλεπτα. Ουσιαστικά οι ετικέτες των δύο κλάσεων βρίσκονται στην 13η κολώνα.\n",
    "\n",
    "###Επικεφαλίδες και αρίθμηση γραμμών δεν υπάρχουν ύστερα από επισκόπηση των δεδομένων.\n",
    "\n",
    "###Παρακάτω εισάγουμε το dataset στο παρών notebook.\n",
    "###To αρχείο plrx.txt βρίσκεται στη μορφή όπου κάθε δείγμα(γραμμή) περιέχει 13 χαρακτηριστικά(κολώνες). "
   ]
  },
  {
   "cell_type": "code",
   "execution_count": null,
   "metadata": {
    "colab": {
     "base_uri": "https://localhost:8080/"
    },
    "id": "wL2HN51oJDZD",
    "outputId": "f0119154-42e1-42e4-dabf-86d535b3f718"
   },
   "outputs": [
    {
     "name": "stdout",
     "output_type": "stream",
     "text": [
      "[[-0.17936   -0.207     -0.20971   ...  0.0033827 -0.33425    1.       ]\n",
      " [-0.14659   -0.16494    0.24987   ... -0.017511   0.066959   1.       ]\n",
      " [-0.13131    0.51816    0.43281   ...  0.088057   0.6312     2.       ]\n",
      " ...\n",
      " [ 0.29877   -0.17962    0.032859  ...  0.24683   -0.38916    2.       ]\n",
      " [-0.37812   -0.52287    0.21541   ...  0.007591   0.47603    1.       ]\n",
      " [ 0.37913   -0.046562  -0.12336   ...  0.17369    0.49063    2.       ]]\n",
      "(182, 13)\n"
     ]
    }
   ],
   "source": [
    "import pandas as pd\n",
    "import numpy as np\n",
    "\n",
    "url = \"http://archive.ics.uci.edu/ml/machine-learning-databases/00230/plrx.txt\"\n",
    "# Γνωρίζουμε ότι το dataset μας περιέχει μόνο αριθμητικά δεδομένα\n",
    "# Kαλώντας τη μέθοδο .values τα δεδομένα μετατρέπονται αυτόματα σε πίνακα numpy αντί για data_frame\n",
    "df = pd.read_csv(url, header=None, sep=\"\\t\").values\n",
    "# Διαγραφή τελευταίας στήλης που περιέχει τιμή ΝaN\n",
    "df = df[: , :-1]\n",
    "df[:, -1] = df[:, -1].astype(int)\n",
    "print(df)\n",
    "print(df.shape)"
   ]
  },
  {
   "cell_type": "markdown",
   "metadata": {
    "id": "muhD8Pl4Aq6y"
   },
   "source": [
    "### Στη σελίδα της μελέτης [Planning Relax Data Set](http://archive.ics.uci.edu/ml/datasets/Planning+Relax) δεν υπήρχε εξαρχής διαθέσιμη η πληροφορία αν υπάρχουν απουσιάζουσες τιμές. Παρατηρώντας όμως το dataset δεν διακρίνουμε να απουσιάζει κάποια τιμή. Αυτό το ελέγχουμε βέβαια και στο παρακάτω κελί.\n",
    "\n",
    "### Το πλήθος των κλάσεων όπως αναφέραμε είναι 2 στο σύνολο και το dataset μας είναι μη ισορροπημένο καθώς η κλάση Relax είναι 2.5 φορές συχνότερη από την κλάση Planning."
   ]
  },
  {
   "cell_type": "code",
   "execution_count": null,
   "metadata": {
    "colab": {
     "base_uri": "https://localhost:8080/"
    },
    "id": "ap6abTmpBIqB",
    "outputId": "04a136ed-5c99-4676-84e0-02902ef016aa"
   },
   "outputs": [
    {
     "name": "stdout",
     "output_type": "stream",
     "text": [
      "Our dataset does not contain any NaN values\n",
      "[130  52]\n",
      "Our dataset is unbalanced since Relax Class (equals to 1 in column 13) appears 130 times and Planning Class (equals to 2 in column 13) appears 52 times\n",
      "Relax Class is 2.5 times larger than Planning Class\n"
     ]
    }
   ],
   "source": [
    "if not np.isnan(df).any():\n",
    "  print(\"Our dataset does not contain any NaN values\")\n",
    "else:\n",
    "  print(\"Our dataset contains NaN values\")\n",
    "\n",
    "dataset = np.bincount(df[:, -1].astype(int))[1:]\n",
    "print(dataset)\n",
    "\n",
    "balaced_dataset = dataset[0]/dataset[1] if dataset[0] > dataset[1] else dataset[1]/dataset[0]\n",
    "if balaced_dataset >= 1.5:\n",
    "  print(f'Our dataset is unbalanced since Relax Class (equals to 1 in column 13) appears {dataset[0]} times and Planning Class (equals to 2 in column 13) appears {dataset[1]} times')\n",
    "  if dataset[0] > dataset[1]:\n",
    "    print(f'Relax Class is {balaced_dataset} times larger than Planning Class')\n",
    "  else:\n",
    "    print(f'Planning Class is {balaced_dataset} times larger than Relax Class')\n",
    "else:\n",
    "  print(f'Our dataset is balanced since Relax Class (equals to 1 in column 13) appears {dataset[0]} times and Planning Class (equals to 2 in column 13) appears {dataset[1]} times')\n",
    "  if dataset[0] > dataset[1]:\n",
    "    print(f'Relax Class is {balaced_dataset} times larger than Planning Class')\n",
    "  else:\n",
    "    print(f'Planning Class is {balaced_dataset} times larger than Relax Class')"
   ]
  },
  {
   "cell_type": "markdown",
   "metadata": {
    "id": "PZ3z2oNYMPo7"
   },
   "source": [
    "# Προετοιμασία"
   ]
  },
  {
   "cell_type": "markdown",
   "metadata": {
    "id": "N5X8tbfWwrcz"
   },
   "source": [
    "### Στη σελίδα της μελέτης [Planning Relax Data Set](http://archive.ics.uci.edu/ml/datasets/Planning+Relax) δεν υπήρχε εξαρχής διαθέσιμη η πληροφορία αν το σύνολο δεδομένων μας είναι χωρισμένο σε σύνολο εκπαίδευσης (train set) και σύνολο (test set). \n",
    "\n",
    "### Αναζητήσαμε σχετική βιβλιογραφία https://ieeexplore.ieee.org/document/7100718 σχετικά με τη παρούσα μελέτη. Στην 3η παράγραφο αναφέρει χαρακτηριστικά: \"The training data has 91 samples and the testing data also  has 91 samples. Total samples are 182.\" Συνεπώς τα ποσοστά του train και test είναι 50-50. Από την επισκόπηση των δειγμάτων παρατηρούμε πως είναι ενοποιημένα τα train με τα test, δηλαδή μέσα στα 182 δείγματα έχουμε και τα train και τα test.\n",
    "\n",
    "\n",
    "### Τα σημαντικά κλειδιά του dataset είναι οι ετικέτες του(labels), όπου η τιμή 1 ισούται με την κλάση Relax και η τιμή 2 ισούται με την κλάση Planning, και οι τιμές των χαρακτηριστικών(features). Υπενθυμίζουμε πως οι πρώτες 12 κολώνες έχουν αριθμητικές μετρήσεις των 12 χαρακτηριστικών κάθε δείγματος. Η 13η κολώνα περιέχει την κλάση του κάθε δείγματος πάλι σε αριθμητική τιμή.\n",
    "\n",
    "### Παρακάτω δημιουργούμε νέες μεταβλητές για τα δύο παραπάνω κλειδιά.\n"
   ]
  },
  {
   "cell_type": "code",
   "execution_count": null,
   "metadata": {
    "colab": {
     "base_uri": "https://localhost:8080/"
    },
    "id": "jRHRKjYZ3zXK",
    "outputId": "93eb61b2-14a4-4156-ceb6-f737817d04ec"
   },
   "outputs": [
    {
     "name": "stdout",
     "output_type": "stream",
     "text": [
      "[[-0.17936   -0.207     -0.20971   ... -0.032886   0.0033827 -0.33425  ]\n",
      " [-0.14659   -0.16494    0.24987   ...  0.050759  -0.017511   0.066959 ]\n",
      " [-0.13131    0.51816    0.43281   ... -0.040303   0.088057   0.6312   ]\n",
      " ...\n",
      " [ 0.29877   -0.17962    0.032859  ... -0.41113    0.24683   -0.38916  ]\n",
      " [-0.37812   -0.52287    0.21541   ... -0.039117   0.007591   0.47603  ]\n",
      " [ 0.37913   -0.046562  -0.12336   ... -0.24229    0.17369    0.49063  ]]\n",
      "(182, 12)\n"
     ]
    }
   ],
   "source": [
    "# τα χαρακτηριστικά του κάθε δείγματος\n",
    "features_df = df[: , :-1]\n",
    "print(features_df)\n",
    "print(features_df.shape)"
   ]
  },
  {
   "cell_type": "code",
   "execution_count": null,
   "metadata": {
    "colab": {
     "base_uri": "https://localhost:8080/"
    },
    "id": "9xH80C2cq7Rm",
    "outputId": "380df674-4a2d-46df-dacb-1b250c88826e"
   },
   "outputs": [
    {
     "name": "stdout",
     "output_type": "stream",
     "text": [
      "[1 1 2 1 1 1 2 1 1 1 2 1 1 1 2 1 1 1 2 1 1 1 2 1 1 1 2 1 1 1 2 1 1 1 2 1 1\n",
      " 1 2 1 1 1 2 1 1 1 2 1 1 1 2 1 1 1 2 1 1 1 2 1 1 1 2 1 1 1 2 1 1 1 2 1 1 1\n",
      " 2 1 1 1 2 1 1 1 2 1 1 1 2 1 1 1 2 1 1 1 2 1 1 1 2 1 1 1 2 1 1 1 2 1 1 1 2\n",
      " 1 1 1 2 1 1 1 2 1 1 1 2 1 1 1 2 1 1 1 2 1 1 1 2 1 1 1 2 1 1 1 2 1 1 1 2 1\n",
      " 1 1 2 1 1 1 2 1 1 2 1 2 1 2 1 2 1 2 1 2 1 2 1 2 1 2 1 2 1 2 1 2 1 2]\n",
      "(182,)\n"
     ]
    }
   ],
   "source": [
    "# η κλάση του κάθε δείγματος\n",
    "labels = df[: , -1]\n",
    "# Μετατροπή labels from float to int, ουσιαστικά αφαιρούμε την . μετά από τον αριθμό 1, 2\n",
    "labels_df = labels.astype(int)\n",
    "print(labels_df)\n",
    "print(labels_df.shape)"
   ]
  },
  {
   "cell_type": "markdown",
   "metadata": {
    "id": "Y_162_c1CglD"
   },
   "source": [
    "# Προεπεξεργασία Dataset"
   ]
  },
  {
   "cell_type": "markdown",
   "metadata": {
    "id": "deUS5id63hu3"
   },
   "source": [
    "### Παρακάτω θα διαχωρίσουμε το σύνολο δεδομένων σε σύνολο εκπαίδευσης (train set) και σύνολο (test set) με 30% των δειγμάτων στο test set. Παρατηρούμε πως τα δεδομένα εκπαίδευσης δεν έχουν ισορροπημένα πλήθη ανά κατηγορία με την κλάση Planning να είναι περίπου 2.5 φορές μεγαλύτερη από την κλάση Relax όπως είδαμε προηγουμένως. Ένα στοιχείο που μας δείχνει πως οι ταξινομητές μας θα δυσκολευτούν αποτελεί το γεγονός πως έχουμε ένα μικρό dataset και δεν υπάρχει ισορροπία ούτε στο training ούτε στο test."
   ]
  },
  {
   "cell_type": "code",
   "execution_count": null,
   "metadata": {
    "colab": {
     "base_uri": "https://localhost:8080/"
    },
    "id": "0W4Ii7ov3jp_",
    "outputId": "01d12cc6-1c13-44f1-baaf-ca09420a4996"
   },
   "outputs": [
    {
     "name": "stdout",
     "output_type": "stream",
     "text": [
      "[86 41]\n",
      "[44 11]\n",
      " Train labels shape is (127,)\n",
      " Test labels shape is (55,)\n"
     ]
    }
   ],
   "source": [
    "from sklearn.model_selection import train_test_split\n",
    "\n",
    "train, test, train_labels, test_labels = train_test_split(features_df, labels_df, test_size=0.30)\n",
    "# imbalanced training set\n",
    "print(np.bincount(train_labels)[1:])\n",
    "# imbalanced test set\n",
    "print(np.bincount(test_labels)[1:])\n",
    "print(\" Train labels shape is \" + str(train_labels.shape))\n",
    "print(\" Test labels shape is \" + str(test_labels.shape))"
   ]
  },
  {
   "cell_type": "markdown",
   "metadata": {
    "id": "x7OAZEwpKSw4"
   },
   "source": [
    "## Ταξινόμηση με  DummyClassifier\n",
    "\n",
    "### Aποθηκεύουμε τις μετρήσεις του DummyClassifier στα αντίστοιχα dictionary. Στο F1 score επίλεγουμε στην παράμετρο average την επιλογή weighted.\n",
    "\n"
   ]
  },
  {
   "cell_type": "code",
   "execution_count": null,
   "metadata": {
    "id": "WlqBi-JCx7vX"
   },
   "outputs": [],
   "source": [
    "Προεπεξεργασία: θα μπορούσαμε να δοκιμάσουμε και άλλες τεχνικές προεπεξεργασίας. Βέβαια, πρόκειται για ένα πολύ μικρό dataset και δεν πρέπει να περιμένουμε δραματικές αλλαγές. from sklearn.dummy import DummyClassifier\n",
    "from sklearn.metrics import accuracy_score\n",
    "from sklearn.metrics import confusion_matrix\n",
    "from sklearn.metrics import classification_report\n",
    "from sklearn.metrics import f1_score\n",
    "import time\n",
    "\n",
    "accuracy_results = {}\n",
    "f1_results = {}\n",
    "accuracy_results_compare = {}\n",
    "f1_results_compare = {}\n",
    "\n",
    "dc_uniform = DummyClassifier(strategy=\"uniform\")\n",
    "dc_constant_1 = DummyClassifier(strategy=\"constant\", constant=1)\n",
    "dc_constant_2 = DummyClassifier(strategy=\"constant\", constant=2)\n",
    "dc_most_frequent = DummyClassifier(strategy=\"most_frequent\")\n",
    "dc_stratified = DummyClassifier(strategy=\"stratified\")\n",
    "\n",
    "dc_uniform.fit(train, train_labels)\n",
    "preds_dc_uniform = dc_uniform.predict(test)\n",
    "accuracy_results['Dummy Uniform'] = accuracy_score(test_labels, preds_dc_uniform)\n",
    "f1_results['Dummy Uniform'] = f1_score(test_labels, preds_dc_uniform, average='weighted')\n",
    "\n",
    "\n",
    "dc_constant_1.fit(train, train_labels)\n",
    "preds_dc_constant_1 = dc_constant_1.predict(test)\n",
    "accuracy_results['Dummy Constant(1)'] = accuracy_score(test_labels, preds_dc_constant_1)\n",
    "f1_results['Dummy Constant(1)'] = f1_score(test_labels, preds_dc_constant_1, average='weighted')\n",
    "\n",
    "dc_constant_2.fit(train, train_labels)\n",
    "preds_dc_constant_2 = dc_constant_2.predict(test)\n",
    "accuracy_results['Dummy Constant(2)'] = accuracy_score(test_labels, preds_dc_constant_2)\n",
    "f1_results['Dummy Constant(2)'] = f1_score(test_labels, preds_dc_constant_2, average='weighted')\n",
    "cnf_matrix = confusion_matrix(test_labels, preds_dc_constant_2)\n",
    "\n",
    "dc_most_frequent.fit(train, train_labels)\n",
    "preds_dc_most_frequent = dc_most_frequent.predict(test)\n",
    "accuracy_results['Dummy Most Frequent'] = accuracy_score(test_labels, preds_dc_most_frequent)\n",
    "f1_results['Dummy Most Frequent'] = f1_score(test_labels, preds_dc_most_frequent, average='weighted')\n",
    "\n",
    "dc_stratified.fit(train, train_labels)\n",
    "preds_dc_stratified = dc_stratified.predict(test)\n",
    "accuracy_results['Dummy Stratified'] = accuracy_score(test_labels, preds_dc_stratified)\n",
    "f1_results['Dummy Stratified'] = f1_score(test_labels, preds_dc_stratified, average='weighted')"
   ]
  },
  {
   "cell_type": "markdown",
   "metadata": {
    "id": "GrNjdJDwMYUh"
   },
   "source": [
    "## Ταξινόμηση με  Gaussian Naive Bayes (GNB)\n",
    "\n",
    "## Αποθηκεύουμε τις μετρήσεις του GNB στα αντίστοιχα dictionary. Δίνουμε default παραμέτρους στον ταξινομητή.\n"
   ]
  },
  {
   "cell_type": "code",
   "execution_count": null,
   "metadata": {
    "id": "keI6s2siMbf2"
   },
   "outputs": [],
   "source": [
    "from sklearn.naive_bayes import GaussianNB\n",
    "\n",
    "GNB_results = []\n",
    "\n",
    "gnb = GaussianNB()\n",
    "# calculate fit time\n",
    "start_time_fit = time.time()\n",
    "gnb.fit(train, train_labels)\n",
    "fit_time = time.time() - start_time_fit\n",
    "# calculate predict time\n",
    "start_time_predict = time.time()\n",
    "preds_Naive_Bayes = gnb.predict(test)\n",
    "predict_time = time.time() - start_time_predict\n",
    "\n",
    "accuracy_results['Gaussian NB'] = accuracy_score(test_labels, preds_Naive_Bayes)\n",
    "f1_results['Gaussian NB'] = f1_score(test_labels, preds_Naive_Bayes, average='weighted')\n",
    "\n",
    "# save for optimization reports later\n",
    "accuracy_results_compare['Gaussian NB(out-of-the-box)'] = [\"default dataset\", \"default parameters\", fit_time, predict_time, accuracy_score(test_labels, preds_Naive_Bayes)]\n",
    "f1_results_compare['Gaussian NB(out-of-the-box)'] = [\"default dataset\", \"default parameters\", fit_time, predict_time, f1_score(test_labels, preds_Naive_Bayes, average='weighted')]"
   ]
  },
  {
   "cell_type": "markdown",
   "metadata": {
    "id": "LbvTxUOMQBjs"
   },
   "source": [
    "## Ταξινόμηση με  KNeirestNeighbors (kNN)\n",
    "\n",
    "## Aποθηκεύουμε τις μετρήσεις του kNN στα αντίστοιχα dictionary. Δίνουμε default παραμέτρους στον ταξινομητή."
   ]
  },
  {
   "cell_type": "code",
   "execution_count": null,
   "metadata": {
    "id": "3gZGzKrIQPH2"
   },
   "outputs": [],
   "source": [
    "from sklearn.neighbors import KNeighborsClassifier\n",
    "\n",
    "kNN_results = []\n",
    "\n",
    "knn = KNeighborsClassifier()\n",
    "# calculate fit time\n",
    "start_time_fit = time.time()\n",
    "knn.fit(train, train_labels)\n",
    "fit_time = time.time() - start_time_fit\n",
    "# calculate predict time\n",
    "start_time_predict = time.time()\n",
    "preds_kNN = knn.predict(test)\n",
    "predict_time = time.time() - start_time_predict\n",
    "\n",
    "accuracy_results['Knn Neighbors'] = accuracy_score(test_labels, preds_kNN)\n",
    "f1_results['Knn Neighbors'] = f1_score(test_labels, preds_kNN, average='weighted')\n",
    "\n",
    "# save for optimization reports  later\n",
    "accuracy_results_compare['Knn Neighbors(out-of-the-box)'] = [\"default dataset\", \"default parameters\", fit_time, predict_time, accuracy_score(test_labels, preds_kNN)]\n",
    "f1_results_compare['Knn Neighbors(out-of-the-box)'] = [\"default dataset\", \"default parameters\", fit_time, predict_time, f1_score(test_labels, preds_kNN, average='weighted')]"
   ]
  },
  {
   "cell_type": "markdown",
   "metadata": {
    "id": "yGEvkS92bs3t"
   },
   "source": [
    "## Ταξινόμηση με  Logistic Regression (LR)\n",
    "\n",
    "## Aποθηκεύουμε τις μετρήσεις του LR στα αντίστοιχα dictionary. Δίνουμε default παραμέτρους στον ταξινομητή."
   ]
  },
  {
   "cell_type": "code",
   "execution_count": null,
   "metadata": {
    "id": "X0pC9GQbrCbo"
   },
   "outputs": [],
   "source": [
    "from sklearn.linear_model import LogisticRegression\n",
    "\n",
    "logisticRegr = LogisticRegression()\n",
    "\n",
    "# calculate fit time\n",
    "start_time_fit = time.time()\n",
    "logisticRegr.fit(train, train_labels)\n",
    "fit_time = time.time() - start_time_fit\n",
    "# calculate predict time\n",
    "start_time_predict = time.time()\n",
    "preds_logisticRegr = logisticRegr.predict(test)\n",
    "predict_time = time.time() - start_time_predict\n",
    "\n",
    "accuracy_results['Logistic Regression'] = accuracy_score(test_labels, preds_logisticRegr)\n",
    "f1_results['Logistic Regression'] = f1_score(test_labels, preds_logisticRegr, average='weighted')\n",
    "\n",
    "# save for optimization reports  later\n",
    "accuracy_results_compare['Logistic Regression(out-of-the-box)'] = [\"default dataset\", \"default parameters\", fit_time, predict_time, accuracy_score(test_labels, preds_logisticRegr)]\n",
    "f1_results_compare['Logistic Regression(out-of-the-box)'] = [\"default dataset\", \"default parameters\", fit_time, predict_time, f1_score(test_labels, preds_logisticRegr, average='weighted')]"
   ]
  },
  {
   "cell_type": "markdown",
   "metadata": {
    "id": "NnB99ZA6uZ9_"
   },
   "source": [
    "## Tαξινομούμε τα dictionaries και τα μετατρέπουμε σε λίστα. Ύστερα δημιουργούμε DataFrame ώστε να έχουμε καλύτερη απεικόνιση των αποτελεσμάτων και αποφεύγουμε τη δημιουργία πίνακα σε markdown, ώστε σε κάθε εκτέλεση του notebook να έχουμε αυτόματα τους ζητούμενους πίνακες."
   ]
  },
  {
   "cell_type": "code",
   "execution_count": null,
   "metadata": {
    "id": "7GN49ZJluoZM"
   },
   "outputs": [],
   "source": [
    "dataFrame_accuracy_results = []\n",
    "dataFrame_f1_scores = []\n",
    "\n",
    "# Create a list of lists for accuracy\n",
    "sorted_accuracy_results = [(k, accuracy_results[k]) for k in sorted(accuracy_results, key=accuracy_results.get, reverse=True)]\n",
    "for i in range(len(sorted_accuracy_results)):\n",
    "  dataFrame_accuracy_results.append(list(sorted_accuracy_results[i]))\n",
    "  dataFrame_accuracy_results[i].insert(0, i + 1)\n",
    "\n",
    "# Create a list of lists for f1 score\n",
    "sorted_f1_results = [(k, f1_results[k]) for k in sorted(f1_results, key=f1_results.get, reverse=True)]\n",
    "for i in range(len(sorted_f1_results)):\n",
    "  dataFrame_f1_scores.append(list(sorted_f1_results[i]))\n",
    "  dataFrame_f1_scores[i].insert(0, i + 1)\n",
    "\n",
    "# Create dataFrames to show results\n",
    "df_accuracy_results = pd.DataFrame(dataFrame_accuracy_results, columns =['Index','Classifier', 'Accuracy'])\n",
    "df_f1_scores = pd.DataFrame(dataFrame_f1_scores, columns =['Index','Classifier', 'F1 Score'])"
   ]
  },
  {
   "cell_type": "markdown",
   "metadata": {
    "id": "-Y1mV2A0tdLL"
   },
   "source": [
    "## Παρακάτω απεικονίζουμε τις αποδόσεις των ταξινομητών ως προς Accuracy.        \n",
    "## Υπενθυμίζουμε, δεν έχει συμβεί καμία βελτιστοποίηση ως στιγμής."
   ]
  },
  {
   "cell_type": "code",
   "execution_count": null,
   "metadata": {
    "colab": {
     "base_uri": "https://localhost:8080/",
     "height": 300
    },
    "id": "lBCGuw_zVypF",
    "outputId": "2a42a0f7-018a-456e-b0a2-53e1c6456327"
   },
   "outputs": [
    {
     "data": {
      "text/html": [
       "<style  type=\"text/css\" >\n",
       "</style><table id=\"T_b9c584a4_52ee_11ec_8157_0242ac1c0002\" class=\"dataframe\"><thead>    <tr>        <th class=\"col_heading level0 col0\" >Index</th>        <th class=\"col_heading level0 col1\" >Classifier</th>        <th class=\"col_heading level0 col2\" >Accuracy</th>    </tr></thead><tbody>\n",
       "                <tr>\n",
       "                                <td id=\"T_b9c584a4_52ee_11ec_8157_0242ac1c0002row0_col0\" class=\"data row0 col0\" >1</td>\n",
       "                        <td id=\"T_b9c584a4_52ee_11ec_8157_0242ac1c0002row0_col1\" class=\"data row0 col1\" >Dummy Constant(1)</td>\n",
       "                        <td id=\"T_b9c584a4_52ee_11ec_8157_0242ac1c0002row0_col2\" class=\"data row0 col2\" >0.800000</td>\n",
       "            </tr>\n",
       "            <tr>\n",
       "                                <td id=\"T_b9c584a4_52ee_11ec_8157_0242ac1c0002row1_col0\" class=\"data row1 col0\" >2</td>\n",
       "                        <td id=\"T_b9c584a4_52ee_11ec_8157_0242ac1c0002row1_col1\" class=\"data row1 col1\" >Dummy Most Frequent</td>\n",
       "                        <td id=\"T_b9c584a4_52ee_11ec_8157_0242ac1c0002row1_col2\" class=\"data row1 col2\" >0.800000</td>\n",
       "            </tr>\n",
       "            <tr>\n",
       "                                <td id=\"T_b9c584a4_52ee_11ec_8157_0242ac1c0002row2_col0\" class=\"data row2 col0\" >3</td>\n",
       "                        <td id=\"T_b9c584a4_52ee_11ec_8157_0242ac1c0002row2_col1\" class=\"data row2 col1\" >Logistic Regression</td>\n",
       "                        <td id=\"T_b9c584a4_52ee_11ec_8157_0242ac1c0002row2_col2\" class=\"data row2 col2\" >0.800000</td>\n",
       "            </tr>\n",
       "            <tr>\n",
       "                                <td id=\"T_b9c584a4_52ee_11ec_8157_0242ac1c0002row3_col0\" class=\"data row3 col0\" >4</td>\n",
       "                        <td id=\"T_b9c584a4_52ee_11ec_8157_0242ac1c0002row3_col1\" class=\"data row3 col1\" >Gaussian NB</td>\n",
       "                        <td id=\"T_b9c584a4_52ee_11ec_8157_0242ac1c0002row3_col2\" class=\"data row3 col2\" >0.745455</td>\n",
       "            </tr>\n",
       "            <tr>\n",
       "                                <td id=\"T_b9c584a4_52ee_11ec_8157_0242ac1c0002row4_col0\" class=\"data row4 col0\" >5</td>\n",
       "                        <td id=\"T_b9c584a4_52ee_11ec_8157_0242ac1c0002row4_col1\" class=\"data row4 col1\" >Knn Neighbors</td>\n",
       "                        <td id=\"T_b9c584a4_52ee_11ec_8157_0242ac1c0002row4_col2\" class=\"data row4 col2\" >0.727273</td>\n",
       "            </tr>\n",
       "            <tr>\n",
       "                                <td id=\"T_b9c584a4_52ee_11ec_8157_0242ac1c0002row5_col0\" class=\"data row5 col0\" >6</td>\n",
       "                        <td id=\"T_b9c584a4_52ee_11ec_8157_0242ac1c0002row5_col1\" class=\"data row5 col1\" >Dummy Uniform</td>\n",
       "                        <td id=\"T_b9c584a4_52ee_11ec_8157_0242ac1c0002row5_col2\" class=\"data row5 col2\" >0.490909</td>\n",
       "            </tr>\n",
       "            <tr>\n",
       "                                <td id=\"T_b9c584a4_52ee_11ec_8157_0242ac1c0002row6_col0\" class=\"data row6 col0\" >7</td>\n",
       "                        <td id=\"T_b9c584a4_52ee_11ec_8157_0242ac1c0002row6_col1\" class=\"data row6 col1\" >Dummy Stratified</td>\n",
       "                        <td id=\"T_b9c584a4_52ee_11ec_8157_0242ac1c0002row6_col2\" class=\"data row6 col2\" >0.472727</td>\n",
       "            </tr>\n",
       "            <tr>\n",
       "                                <td id=\"T_b9c584a4_52ee_11ec_8157_0242ac1c0002row7_col0\" class=\"data row7 col0\" >8</td>\n",
       "                        <td id=\"T_b9c584a4_52ee_11ec_8157_0242ac1c0002row7_col1\" class=\"data row7 col1\" >Dummy Constant(2)</td>\n",
       "                        <td id=\"T_b9c584a4_52ee_11ec_8157_0242ac1c0002row7_col2\" class=\"data row7 col2\" >0.200000</td>\n",
       "            </tr>\n",
       "    </tbody></table>"
      ],
      "text/plain": [
       "<pandas.io.formats.style.Styler at 0x7f2a3a2ad410>"
      ]
     },
     "execution_count": 11,
     "metadata": {},
     "output_type": "execute_result"
    }
   ],
   "source": [
    "df_accuracy_results.style.hide_index()      "
   ]
  },
  {
   "cell_type": "markdown",
   "metadata": {
    "id": "44BstipEV2WF"
   },
   "source": [
    "## Παρακάτω απεικονίζουμε τις αποδόσεις των ταξινομητών ως προς F1-score."
   ]
  },
  {
   "cell_type": "code",
   "execution_count": null,
   "metadata": {
    "colab": {
     "base_uri": "https://localhost:8080/",
     "height": 300
    },
    "id": "pfbroRKDV6ss",
    "outputId": "f6f66433-c9de-49b5-b836-281758358d28"
   },
   "outputs": [
    {
     "data": {
      "text/html": [
       "<style  type=\"text/css\" >\n",
       "</style><table id=\"T_b9c77a0c_52ee_11ec_8157_0242ac1c0002\" class=\"dataframe\"><thead>    <tr>        <th class=\"col_heading level0 col0\" >Index</th>        <th class=\"col_heading level0 col1\" >Classifier</th>        <th class=\"col_heading level0 col2\" >F1 Score</th>    </tr></thead><tbody>\n",
       "                <tr>\n",
       "                                <td id=\"T_b9c77a0c_52ee_11ec_8157_0242ac1c0002row0_col0\" class=\"data row0 col0\" >1</td>\n",
       "                        <td id=\"T_b9c77a0c_52ee_11ec_8157_0242ac1c0002row0_col1\" class=\"data row0 col1\" >Dummy Constant(1)</td>\n",
       "                        <td id=\"T_b9c77a0c_52ee_11ec_8157_0242ac1c0002row0_col2\" class=\"data row0 col2\" >0.711111</td>\n",
       "            </tr>\n",
       "            <tr>\n",
       "                                <td id=\"T_b9c77a0c_52ee_11ec_8157_0242ac1c0002row1_col0\" class=\"data row1 col0\" >2</td>\n",
       "                        <td id=\"T_b9c77a0c_52ee_11ec_8157_0242ac1c0002row1_col1\" class=\"data row1 col1\" >Dummy Most Frequent</td>\n",
       "                        <td id=\"T_b9c77a0c_52ee_11ec_8157_0242ac1c0002row1_col2\" class=\"data row1 col2\" >0.711111</td>\n",
       "            </tr>\n",
       "            <tr>\n",
       "                                <td id=\"T_b9c77a0c_52ee_11ec_8157_0242ac1c0002row2_col0\" class=\"data row2 col0\" >3</td>\n",
       "                        <td id=\"T_b9c77a0c_52ee_11ec_8157_0242ac1c0002row2_col1\" class=\"data row2 col1\" >Logistic Regression</td>\n",
       "                        <td id=\"T_b9c77a0c_52ee_11ec_8157_0242ac1c0002row2_col2\" class=\"data row2 col2\" >0.711111</td>\n",
       "            </tr>\n",
       "            <tr>\n",
       "                                <td id=\"T_b9c77a0c_52ee_11ec_8157_0242ac1c0002row3_col0\" class=\"data row3 col0\" >4</td>\n",
       "                        <td id=\"T_b9c77a0c_52ee_11ec_8157_0242ac1c0002row3_col1\" class=\"data row3 col1\" >Knn Neighbors</td>\n",
       "                        <td id=\"T_b9c77a0c_52ee_11ec_8157_0242ac1c0002row3_col2\" class=\"data row3 col2\" >0.694497</td>\n",
       "            </tr>\n",
       "            <tr>\n",
       "                                <td id=\"T_b9c77a0c_52ee_11ec_8157_0242ac1c0002row4_col0\" class=\"data row4 col0\" >5</td>\n",
       "                        <td id=\"T_b9c77a0c_52ee_11ec_8157_0242ac1c0002row4_col1\" class=\"data row4 col1\" >Gaussian NB</td>\n",
       "                        <td id=\"T_b9c77a0c_52ee_11ec_8157_0242ac1c0002row4_col2\" class=\"data row4 col2\" >0.683333</td>\n",
       "            </tr>\n",
       "            <tr>\n",
       "                                <td id=\"T_b9c77a0c_52ee_11ec_8157_0242ac1c0002row5_col0\" class=\"data row5 col0\" >6</td>\n",
       "                        <td id=\"T_b9c77a0c_52ee_11ec_8157_0242ac1c0002row5_col1\" class=\"data row5 col1\" >Dummy Uniform</td>\n",
       "                        <td id=\"T_b9c77a0c_52ee_11ec_8157_0242ac1c0002row5_col2\" class=\"data row5 col2\" >0.540000</td>\n",
       "            </tr>\n",
       "            <tr>\n",
       "                                <td id=\"T_b9c77a0c_52ee_11ec_8157_0242ac1c0002row6_col0\" class=\"data row6 col0\" >7</td>\n",
       "                        <td id=\"T_b9c77a0c_52ee_11ec_8157_0242ac1c0002row6_col1\" class=\"data row6 col1\" >Dummy Stratified</td>\n",
       "                        <td id=\"T_b9c77a0c_52ee_11ec_8157_0242ac1c0002row6_col2\" class=\"data row6 col2\" >0.522944</td>\n",
       "            </tr>\n",
       "            <tr>\n",
       "                                <td id=\"T_b9c77a0c_52ee_11ec_8157_0242ac1c0002row7_col0\" class=\"data row7 col0\" >8</td>\n",
       "                        <td id=\"T_b9c77a0c_52ee_11ec_8157_0242ac1c0002row7_col1\" class=\"data row7 col1\" >Dummy Constant(2)</td>\n",
       "                        <td id=\"T_b9c77a0c_52ee_11ec_8157_0242ac1c0002row7_col2\" class=\"data row7 col2\" >0.066667</td>\n",
       "            </tr>\n",
       "    </tbody></table>"
      ],
      "text/plain": [
       "<pandas.io.formats.style.Styler at 0x7f2a21bea3d0>"
      ]
     },
     "execution_count": 12,
     "metadata": {},
     "output_type": "execute_result"
    }
   ],
   "source": [
    "df_f1_scores.style.hide_index()"
   ]
  },
  {
   "cell_type": "markdown",
   "metadata": {
    "id": "vMzhX7TfDIGZ"
   },
   "source": [
    "## Παρακάτω απεικονίζουμε τις αποδόσεις των ταξινομητών ως προς το accuracy σε bar plot σύγκρισης.\n"
   ]
  },
  {
   "cell_type": "code",
   "execution_count": null,
   "metadata": {
    "colab": {
     "base_uri": "https://localhost:8080/",
     "height": 413
    },
    "id": "MENP_NASkMAI",
    "outputId": "c92ad609-ed76-45b6-bcfe-1734697fcccc"
   },
   "outputs": [
    {
     "data": {
      "image/png": "[encoded data removed]",
      "text/plain": [
       "<Figure size 1800x432 with 1 Axes>"
      ]
     },
     "metadata": {},
     "output_type": "display_data"
    }
   ],
   "source": [
    "import matplotlib.pyplot as plt\n",
    "\n",
    "sorted_accuracy_results_dict = dict(sorted(accuracy_results.items(), key=lambda item: item[1],reverse=True))\n",
    "classifiers_accuracy = list(sorted_accuracy_results_dict.keys())\n",
    "values_accuracy = list(sorted_accuracy_results_dict.values())\n",
    "  \n",
    "fig = plt.figure(figsize = (25, 6), facecolor='#dedbdb')\n",
    " \n",
    "# creating the bar plot\n",
    "plt.bar(classifiers_accuracy, values_accuracy, color=\t\"#2980b9\", edgecolor ='black',\n",
    "        width = 0.4)\n",
    " \n",
    "plt.xlabel(\"Classifiers\", fontweight='bold', fontsize=\"14\", )\n",
    "plt.ylabel(\"Accuracy Score\", fontweight='bold', fontsize=\"14\")\n",
    "plt.title(\"Classification Accuracy (30% test set)\", fontweight='bold',fontsize=\"14\")\n",
    "plt.tick_params(colors='#471e1e', axis='both', labelsize=14)\n",
    "# plt.rcParams.update({'font.family':'sans-serif'})\n",
    "plt.rcParams.update({'axes.facecolor':'#dedbdb'})\n",
    "plt.show()"
   ]
  },
  {
   "cell_type": "markdown",
   "metadata": {
    "id": "PeOzB70VrrZ_"
   },
   "source": [
    "## Παρακάτω απεικονίζουμε τις αποδόσεις των ταξινομητών ως προς το f1-score σε bar plot σύγκρισης.\n"
   ]
  },
  {
   "cell_type": "code",
   "execution_count": null,
   "metadata": {
    "colab": {
     "base_uri": "https://localhost:8080/",
     "height": 412
    },
    "id": "cHbsEHxkrv2Z",
    "outputId": "8a64b2a7-d540-4203-e62d-57f68eb510ff"
   },
   "outputs": [
    {
     "data": {
      "image/png": "[encoded data removed]",
      "text/plain": [
       "<Figure size 1800x432 with 1 Axes>"
      ]
     },
     "metadata": {},
     "output_type": "display_data"
    }
   ],
   "source": [
    "import matplotlib.pyplot as plt\n",
    "\n",
    "sorted_f1_results_dict = dict(sorted(f1_results.items(), key=lambda item: item[1],reverse=True))\n",
    "classifiers_f1 = list(sorted_f1_results_dict.keys())\n",
    "values_f1 = list(sorted_f1_results_dict.values())\n",
    "  \n",
    "fig = plt.figure(figsize = (25, 6), facecolor='#dedbdb')\n",
    " \n",
    "# creating the bar plot\n",
    "plt.bar(classifiers_f1, values_f1, color=\t\"#2980b9\", edgecolor ='black',\n",
    "        width = 0.4)\n",
    " \n",
    "plt.xlabel(\"Classifiers\", fontweight='bold', fontsize=\"12\")\n",
    "plt.ylabel(\"F1 Score\", fontweight='bold', fontsize=\"12\")\n",
    "plt.title(\"Classification F1-score, average = 'weighted' (30% test set)\", fontweight='bold',fontsize=\"14\")\n",
    "plt.tick_params(colors='#471e1e', axis='both', labelsize=14)\n",
    "# plt.rcParams.update({'font.family':'sans-serif'})\n",
    "plt.rcParams.update({'axes.facecolor':'#dedbdb'})\n",
    "plt.show()"
   ]
  },
  {
   "cell_type": "markdown",
   "metadata": {
    "id": "qsWuEHIVpvLK"
   },
   "source": [
    "#Σχολιασμός Μη Βελτιστοποιημένης Επίδοσης\n",
    "\n",
    "## Αυτό το οποίο παρατηρούμε σε γενικές γραμμές είναι πως οι ταξινομητές(εκτός του Dummy) δυσκολεύονται αρκετά στο συγκεκριμένο dataset. Ένας λόγος είναι σίγουρο το μικρό μέγεθος του dataset καθώς και το γεγονός πως δεν έχουμε κάνει κάποια βελτιστοποίηση ως στιγμής. Αξιοσημείωτο αποτελεί το γεγονός πως ο Dummy βρίσκεται μαζί με τους υπόλοιπους ταξινομητές και αυτό οφείλεται στο γεγονός πως στο αρχικό dataset υπάρχουν πιο πολλές εμφανίσεις της κλάσης 1(Relax), άρα και στο test. Ως αποτέλεσμα ο Dummy Constant(1) και ο Dummy Most Frequent έχουν απόδοση κοντά με τους KNeighborsClassifier, Gaussian NB και LogisticRegression. Για τον ίδιο λόγο επίσης ο Dummy Constant(2) είναι ο χειρότερος ταξινομητής."
   ]
  },
  {
   "cell_type": "markdown",
   "metadata": {
    "id": "5IkXKSvo01WP"
   },
   "source": [
    "# Πλέον ξεκινάμε τη βελτιστοποίηση των ταξινομητών.\n",
    "\n",
    "## Να τονίσουμε πως πλέον δε θα ασχοληθούμε με τον DummyClassifier διότι δεν μπορεί να εκπαιδευτεί άρα και να βελτιστοποιηθεί."
   ]
  },
  {
   "cell_type": "code",
   "execution_count": null,
   "metadata": {
    "colab": {
     "base_uri": "https://localhost:8080/"
    },
    "id": "G-N1zJsv6rxT",
    "outputId": "298ceeb7-fb4d-4011-c84c-5d7f02edc8f2"
   },
   "outputs": [
    {
     "name": "stdout",
     "output_type": "stream",
     "text": [
      "Requirement already satisfied: imbalanced-learn in /usr/local/lib/python3.7/dist-packages (0.8.1)\n",
      "Requirement already satisfied: scikit-learn>=0.24 in /usr/local/lib/python3.7/dist-packages (from imbalanced-learn) (1.0.1)\n",
      "Requirement already satisfied: numpy>=1.13.3 in /usr/local/lib/python3.7/dist-packages (from imbalanced-learn) (1.19.5)\n",
      "Requirement already satisfied: joblib>=0.11 in /usr/local/lib/python3.7/dist-packages (from imbalanced-learn) (1.1.0)\n",
      "Requirement already satisfied: scipy>=0.19.1 in /usr/local/lib/python3.7/dist-packages (from imbalanced-learn) (1.4.1)\n",
      "Requirement already satisfied: threadpoolctl>=2.0.0 in /usr/local/lib/python3.7/dist-packages (from scikit-learn>=0.24->imbalanced-learn) (3.0.0)\n"
     ]
    }
   ],
   "source": [
    "!pip install -U imbalanced-learn"
   ]
  },
  {
   "cell_type": "markdown",
   "metadata": {
    "id": "j_5Vovq8tH0x"
   },
   "source": [
    "# Βελτιστοποίηση του KNeighborsClassifier \n"
   ]
  },
  {
   "cell_type": "markdown",
   "metadata": {
    "id": "cLhmx2onpSRw"
   },
   "source": [
    "## Παρακάτω θα δοκιμάσουμε διάφορες επιλογές στο pipeline μας. Συνολικά έχουμε θα πραγματοποιήσουμε τις παρακάτω επιλογές προεπεξεργασίας δεδομένων και υπερπαραμέτρων των ταξινομητών τις οποίες αναγράφουμε στον παρακάτω πίνακα.\n",
    "\n",
    "| α/α | Επιλογές Προεπεργασίας Δεδομένων|Επιλογή  Προς Δοκιμασία|Υπερπαράμετρος kNN| Υπερπαράμετρος GaussianNB|Υπερπαράμετρος Logistic Regression|\n",
    "| :----: | :----:                         |:----:|:----:| :----: |:----: |\n",
    "| 1      |   selector, scaler, ros, pca   |√   |n_neighbors, p|var_smoothing|penalty, solver, C, max_iter\n",
    "| 2      |   selector, scaler, ros        |√    |n_neighbors, p|var_smoothing|penalty, solver, C, max_iter\n",
    "| 3      |   selector, scaler, smote      |√    |n_neighbors, p|var_smoothing|penalty, solver, C, max_iter\n",
    "| 4      |   selector, ros, pca           |√    |n_neighbors, p|var_smoothing|penalty, solver, C, max_iter\n",
    "| 5      |   selector, smote, pca         |√    |n_neighbors, p|var_smoothing|penalty, solver, C, max_iter\n",
    "| 6      |   selector, scaler, pca        |√    |n_neighbors, p|var_smoothing|penalty, solver, C, max_iter\n",
    "| 7      |   scaler, ros, pca             |√    |n_neighbors, p|var_smoothing|penalty, solver, C, max_iter\n",
    "| 8      |   scaler, smote, pca           |√    |n_neighbors, p|var_smoothing|penalty, solver, C, max_iter\n",
    "| 9      | scaler, ros                    |√    |n_neighbors, p|var_smoothing|penalty, solver, C, max_iter\n",
    "| 10     | scaler, smote                  |√    |n_neighbors, p|var_smoothing|penalty, solver, C, max_iter\n",
    "| 11     | scaler, pca                    |√    |n_neighbors, p|var_smoothing|penalty, solver, C, max_iter\n",
    "| 12     | smote, pca                     |√    |n_neighbors, p|var_smoothing|penalty, solver, C, max_iter\n",
    "| 13     | ros, pca                       |√    |n_neighbors, p|var_smoothing|penalty, solver, C, max_iter\n",
    "| 14     | selector, pca                  |√    |n_neighbors, p|var_smoothing|penalty, solver, C, max_iter\n",
    "| 15     | selector, scaler               |√    |n_neighbors, p|var_smoothing|penalty, solver, C, max_iter\n",
    "| 16     | selector, ros                  |√    |n_neighbors, p|var_smoothing|penalty, solver, C, max_iter\n",
    "| 17     | selector, smote                |√    |n_neighbors, p|var_smoothing|penalty, solver, C, max_iter\n",
    "| 18     | ros                            |√    |n_neighbors, p|var_smoothing|penalty, solver, C, max_iter\n",
    "| 19     | smote                          |√    |n_neighbors, p|var_smoothing|penalty, solver, C, max_iter\n",
    "| 20     | selector                       |√    |n_neighbors, p|var_smoothing|penalty, solver, C, max_iter\n",
    "| 21     | pca                            |√    |n_neighbors, p|var_smoothing|penalty, solver, C, max_iter\n",
    "| 22     | no dataset preprocessing       |√    |n_neighbors, p|var_smoothing|penalty, solver, C, max_iter\n",
    "\n",
    "### Στα παραπάνω έχουμε της εξής αντιστοίχιση selector-> VarianceThreshold, scaler -> StandardScaler, ros ->  RandomOverSampler, smote -> SMOTE(), pca -> PCA.\n",
    "\n",
    "### Επίσης, δοκιμάσαμε ως προς το ovesampling με SMOTE να βελτιστοποιήσουμε την παράμετο sampling_strategy. Το ovesampling με RandomOverSampler έγινε με dafault παραμέτρους.\n",
    "\n",
    "### Ως προς το VarianceThreshold δοκιμάσαμε να βελτιστοποιήσουμε την παράμετρο vthreshold.\n",
    "\n",
    "### Ως προς το PCA δοκιμάσαμε να βελτιστοποιήσουμε την παράμετρο n_components.\n",
    "\n",
    "### Τέλος κάνουμε import όσα θα μας χρειαστούν για τους υπολογισμούς μας."
   ]
  },
  {
   "cell_type": "code",
   "execution_count": null,
   "metadata": {
    "colab": {
     "base_uri": "https://localhost:8080/"
    },
    "id": "jTcaaFq3tTL2",
    "outputId": "3845473a-9f9a-4f20-85aa-894dc502d31d"
   },
   "outputs": [
    {
     "name": "stdout",
     "output_type": "stream",
     "text": [
      "[0.10779130609457534, 0.10862683534732598, 0.1259059921364558, 0.14425343624962833, 0.15489463357314492, 0.15715108065396968, 0.16762414942091125, 0.19314739943603257, 0.1951355558984184, 0.20552440343761308, 0.20710102328070296, 0.2462750268297247]\n",
      "0.2462750268297247\n"
     ]
    }
   ],
   "source": [
    "#from sklearn.pipeline import Pipeline\n",
    "from imblearn.pipeline import Pipeline\n",
    "from imblearn.over_sampling import SMOTE \n",
    "\n",
    "# import confusion matrix\n",
    "from sklearn.metrics import confusion_matrix\n",
    "\n",
    "# data preprocessing\n",
    "from sklearn.feature_selection import VarianceThreshold\n",
    "from sklearn.preprocessing import StandardScaler\n",
    "from imblearn.over_sampling import RandomOverSampler\n",
    "from sklearn.decomposition import PCA\n",
    "\n",
    "# import GridSearchCV\n",
    "from sklearn.model_selection import GridSearchCV\n",
    "\n",
    "# warnings suppressed\n",
    "from warnings import simplefilter\n",
    "from sklearn.exceptions import FitFailedWarning\n",
    "\n",
    "#import time for time measuring\n",
    "import time\n",
    "\n",
    "# αρχικοποιούμε την προεπεξεργασία των δεδομένων για να ορίσουμε το pipeline μας μετά\n",
    "selector = VarianceThreshold() # μείωση διαστάσεων εισόδου με επιλογή χαρακτηριστικών\n",
    "scaler = StandardScaler() # κανονικοποίηση χαρακτηριστικών\n",
    "ros = RandomOverSampler() # εξισσοροπούμε το dataset με oversampling\n",
    "smote = SMOTE() # εξισσοροπούμε το dataset με SMOTE\n",
    "pca = PCA() # ανάλυση σε κύριες συνιστώσες\n",
    "\n",
    "train_variance = train.var(axis=0)\n",
    "print(sorted(train_variance))\n",
    "print(np.max(train_variance))"
   ]
  },
  {
   "cell_type": "markdown",
   "metadata": {
    "id": "BEOTlkl7_xPO"
   },
   "source": [
    "## Βελτιστοποίηση KNeighborsClassifier ως προς F1-Score (average = weighted)"
   ]
  },
  {
   "cell_type": "code",
   "execution_count": null,
   "metadata": {
    "id": "Zg798mOB7-4s"
   },
   "outputs": [],
   "source": [
    "kNN_optimal = KNeighborsClassifier(n_jobs=-1) # η παράμετρος n_jobs = -1 χρησιμοποιεί όλους τους πυρήνες του υπολογιστή\n",
    "\n",
    "vthreshold = [0, 0.1, 0.15, 0.20, sorted(train_variance)[len(sorted(train_variance)) - 2]] # προσαρμόζουμε τις τιμές μας στο variance που παρατηρήσαμε\n",
    "n_components = [1, 3, 6, 9, 11] # PCA - τελικός αριθμός features\n",
    "k = [1, 2, 3, 4, 5, 11] # η υπερπαράμετρος του ταξινομητή kNN\n",
    "p = [2, 1] # Power parameter for the Minkowski metric\n",
    "strategy = ['auto', 0.6, 0.7, 0.8]\n",
    "\n",
    "# προεπεξεργασια dataset : selector, scaler, ros, pca - Υπερπαράμετρος = n_neighbors\n",
    "pipeline0 = Pipeline(steps=[('selector', selector), ('scaler', scaler), ('sampler', ros), ('pca', pca), ('kNN', kNN_optimal)], memory = 'tmp')\n",
    "parameters0 = dict(selector__threshold=vthreshold, pca__n_components=n_components, kNN__n_neighbors=k, kNN__p = p)\n",
    "\n",
    "# προεπεξεργασια dataset : selector, scaler, ros - Υπερπαράμετρος = n_neighbors\n",
    "pipeline1 = Pipeline(steps=[('selector', selector), ('scaler', scaler), ('sampler', ros), ('kNN', kNN_optimal)], memory = 'tmp')\n",
    "parameters1 = dict(selector__threshold=vthreshold, kNN__n_neighbors=k, kNN__p = p)\n",
    "\n",
    "# προεπεξεργασια dataset : selector, scaler, smote - Υπερπαράμετρος = n_neighbors\n",
    "pipeline2 = Pipeline(steps=[('selector', selector), ('scaler', scaler), ('sampler', smote), ('kNN', kNN_optimal)], memory = 'tmp')\n",
    "parameters2 = dict(selector__threshold=vthreshold, sampler__sampling_strategy=strategy, kNN__n_neighbors=k, kNN__p = p)\n",
    "\n",
    "# προεπεξεργασια dataset : selector, ros, pca - Υπερπαράμετρος = n_neighbors\n",
    "pipeline3 = Pipeline(steps=[('selector', selector), ('sampler', ros), ('pca', pca), ('kNN', kNN_optimal)], memory = 'tmp')\n",
    "parameters3 = dict(selector__threshold=vthreshold, pca__n_components=n_components, kNN__n_neighbors=k, kNN__p = p)\n",
    "\n",
    "# προεπεξεργασια dataset : selector, smote, pca - Υπερπαράμετρος = n_neighbors\n",
    "pipeline4 = Pipeline(steps=[('selector', selector), ('sampler', smote), ('pca', pca), ('kNN', kNN_optimal)], memory = 'tmp')\n",
    "parameters4 = dict(selector__threshold=vthreshold, sampler__sampling_strategy=strategy, pca__n_components=n_components, kNN__n_neighbors=k, kNN__p = p)\n",
    "\n",
    "# προεπεξεργασια dataset : selector, scaler, pca - Υπερπαράμετρος = n_neighbors\n",
    "pipeline5 = Pipeline(steps=[('selector', selector), ('scaler', scaler), ('pca', pca), ('kNN', kNN_optimal)], memory = 'tmp')\n",
    "parameters5 = dict(selector__threshold=vthreshold, pca__n_components=n_components, kNN__n_neighbors=k, kNN__p = p)\n",
    "\n",
    "# προεπεξεργασια dataset : scaler, ros, pca - Υπερπαράμετρος = n_neighbors\n",
    "pipeline6 = Pipeline(steps=[('scaler', scaler), ('sampler', ros), ('pca', pca), ('kNN', kNN_optimal)], memory = 'tmp')\n",
    "parameters6 = dict(pca__n_components=n_components, kNN__n_neighbors=k, kNN__p = p)\n",
    "\n",
    "# προεπεξεργασια dataset : scaler, smote, pca - Υπερπαράμετρος = n_neighbors\n",
    "pipeline7 = Pipeline(steps=[('scaler', scaler), ('sampler', smote), ('pca', pca), ('kNN', kNN_optimal)], memory = 'tmp')\n",
    "parameters7 = dict(sampler__sampling_strategy=strategy, pca__n_components=n_components, kNN__n_neighbors=k, kNN__p = p)\n",
    "\n",
    "# προεπεξεργασια dataset : scaler, ros - Υπερπαράμετρος = n_neighbors\n",
    "pipeline8 = Pipeline(steps=[('scaler', scaler), ('sampler', ros), ('kNN', kNN_optimal)], memory = 'tmp')\n",
    "parameters8 = dict(kNN__n_neighbors=k, kNN__p = p)\n",
    "\n",
    "# προεπεξεργασια dataset : scaler, smote - Υπερπαράμετρος = n_neighbors\n",
    "pipeline9 = Pipeline(steps=[('scaler', scaler), ('sampler', smote), ('kNN', kNN_optimal)], memory = 'tmp')\n",
    "parameters9 = dict(sampler__sampling_strategy=strategy, kNN__n_neighbors=k, kNN__p = p)\n",
    "\n",
    "# προεπεξεργασια dataset : scaler, pca - Υπερπαράμετρος = n_neighbors\n",
    "pipeline10 = Pipeline(steps=[('scaler', scaler), ('pca', pca), ('kNN', kNN_optimal)], memory = 'tmp')\n",
    "parameters10 = dict(pca__n_components=n_components, kNN__n_neighbors=k, kNN__p = p)\n",
    "\n",
    "# προεπεξεργασια dataset : smote, pca - Υπερπαράμετρος = n_neighbors\n",
    "pipeline11 = Pipeline(steps=[('sampler', smote), ('pca', pca), ('kNN', kNN_optimal)], memory = 'tmp')\n",
    "parameters11 = dict(sampler__sampling_strategy=strategy, pca__n_components=n_components, kNN__n_neighbors=k, kNN__p = p)\n",
    "\n",
    "# προεπεξεργασια dataset : ros, pca - Υπερπαράμετρος = n_neighbors\n",
    "pipeline12 = Pipeline(steps=[('sampler', ros), ('pca', pca), ('kNN', kNN_optimal)], memory = 'tmp')\n",
    "parameters12 = dict(pca__n_components=n_components, kNN__n_neighbors=k, kNN__p = p)\n",
    "\n",
    "# προεπεξεργασια dataset : selector, pca - Υπερπαράμετρος = n_neighbors\n",
    "pipeline13 = Pipeline(steps=[('selector', selector), ('pca', pca), ('kNN', kNN_optimal)], memory = 'tmp')\n",
    "parameters13 = dict(selector__threshold=vthreshold, pca__n_components=n_components, kNN__n_neighbors=k, kNN__p = p)\n",
    "\n",
    "# προεπεξεργασια dataset : selector, scaler - Υπερπαράμετρος = n_neighbors\n",
    "pipeline14 = Pipeline(steps=[('selector', selector), ('scaler', scaler), ('kNN', kNN_optimal)], memory = 'tmp')\n",
    "parameters14 = dict(selector__threshold=vthreshold, kNN__n_neighbors=k, kNN__p = p)\n",
    "\n",
    "# προεπεξεργασια dataset : selector, ros - Υπερπαράμετρος = n_neighbors\n",
    "pipeline15 = Pipeline(steps=[('selector', selector), ('sampler', ros), ('kNN', kNN_optimal)], memory = 'tmp')\n",
    "parameters15 = dict(selector__threshold=vthreshold, kNN__n_neighbors=k, kNN__p = p)\n",
    "\n",
    "# προεπεξεργασια dataset : selector, smote - Υπερπαράμετρος = n_neighbors\n",
    "pipeline16 = Pipeline(steps=[('selector', selector), ('sampler', smote), ('kNN', kNN_optimal)], memory = 'tmp')\n",
    "parameters16 = dict(selector__threshold=vthreshold, sampler__sampling_strategy=strategy, kNN__n_neighbors=k, kNN__p = p)\n",
    "                    \n",
    "# προεπεξεργασια dataset : ros - Υπερπαράμετρος = n_neighbors\n",
    "pipeline17 = Pipeline(steps=[('sampler', ros), ('kNN', kNN_optimal)], memory = 'tmp')\n",
    "parameters17 = dict(kNN__n_neighbors=k, kNN__p = p)\n",
    "\n",
    "# προεπεξεργασια dataset : smote - Υπερπαράμετρος = n_neighbors\n",
    "pipeline18 = Pipeline(steps=[('sampler', smote), ('kNN', kNN_optimal)], memory = 'tmp')\n",
    "parameters18 = dict(sampler__sampling_strategy=strategy, kNN__n_neighbors=k, kNN__p = p)\n",
    "\n",
    "# προεπεξεργασια dataset : selector - Υπερπαράμετρος = n_neighbors\n",
    "pipeline19 = Pipeline(steps=[('selector', selector), ('kNN', kNN_optimal)], memory = 'tmp')\n",
    "parameters19 = dict(selector__threshold=vthreshold, kNN__n_neighbors=k, kNN__p = p)\n",
    "\n",
    "# προεπεξεργασια dataset : pca - Υπερπαράμετρος = n_neighbors\n",
    "pipeline20 = Pipeline(steps=[('pca', pca), ('kNN', kNN_optimal)], memory = 'tmp')\n",
    "parameters20 = dict(pca__n_components=n_components, kNN__n_neighbors=k, kNN__p = p)\n",
    "\n",
    "# προεπεξεργασια dataset : καμία - Υπερπαράμετρος = n_neighbors\n",
    "pipeline21 =  Pipeline(steps=[('kNN', kNN_optimal)], memory = 'tmp')\n",
    "parameters21 = dict(kNN__n_neighbors=k, kNN__p = p)\n",
    "\n",
    "pips = [pipeline0, pipeline1, pipeline2, pipeline3, pipeline4, pipeline5, pipeline6, \n",
    "        pipeline7, pipeline8, pipeline9, pipeline10, pipeline11, pipeline12, pipeline13,\n",
    "        pipeline14, pipeline15, pipeline16, pipeline17, pipeline18, pipeline19, pipeline20,\n",
    "        pipeline21]\n",
    "\n",
    "pars = [parameters0, parameters1, parameters2, parameters3, parameters4, parameters5, \n",
    "        parameters6, parameters7, parameters8, parameters9, parameters10, parameters11,\n",
    "        parameters12, parameters13, parameters14, parameters15, parameters16, parameters17,\n",
    "        parameters18, parameters19, parameters20, parameters21]"
   ]
  },
  {
   "cell_type": "markdown",
   "metadata": {
    "id": "3D4g0U3TCSHE"
   },
   "source": [
    "### Παραπάνω ορίσαμε τους συνδυασμούς που θα εκτελέσουμε προς βελτιστοποίηση. Παρακάτω κάνουμε fit και predict τον ταξινομητή μας. Ωστόσο αγνοούμε τα FitFailedWarning. Ουσιαστικά επειδή έχουμε μόλις 12 χαρακτηριστικά όταν εισάγουμε στο pipeline την επιλογή για VarianceThreshold, τότε αφαιρούνται χαρακτηριστικά αλλά παραμένει η επιλογή για τον αριθμό των κύριων συνιστωσών(PCA). Οπότε έχουμε μια κατάσταση όπου έχουμε έστω x δείγματα που απέμειναν μέσω VarianceThreshold και y δείγματα ως επιλογή στο PCA με y > x. Αυτό δεν επηρεάζει τις μετρήσεις μας διότι το GridSearch συνεχίζεται και όπου ισχύει y > x μας βγάζει warning τα οποία τα αγνοούμε ώστε να μην τα έχουμε στο output. Στο τέλος sortaroume το dictionary από υψηλότερο F1-Score προς χαμηλότερο F1-Score."
   ]
  },
  {
   "cell_type": "code",
   "execution_count": null,
   "metadata": {
    "id": "4US4sPjsCfzH"
   },
   "outputs": [],
   "source": [
    "kNN_optimized_for_f1_score = {}\n",
    "\n",
    "simplefilter(\"ignore\", category=FitFailedWarning)\n",
    "simplefilter(\"ignore\", category=UserWarning)\n",
    "\n",
    "for i in range(len(pars)):\n",
    "  estimator_f1 = GridSearchCV(pips[i], pars[i], cv=10, scoring='f1_weighted', n_jobs=-1)\n",
    "  # calculate fit time\n",
    "  start_time_fit = time.time()\n",
    "  estimator_f1.fit(train, train_labels)\n",
    "  fit_time = time.time() - start_time_fit\n",
    "  # calculate predict time\n",
    "  start_time_predict = time.time()\n",
    "  preds = estimator_f1.predict(test)\n",
    "  predict_time = time.time() - start_time_predict\n",
    "  cnf_matrix = confusion_matrix(test_labels, preds)\n",
    "  kNN_optimized_for_f1_score[estimator_f1.best_estimator_] = [estimator_f1.best_params_, \n",
    "                                fit_time, predict_time, f1_score(test_labels, preds, average='weighted'), cnf_matrix]\n",
    "\n",
    "kNN_optimized_for_f1_score = dict(sorted(kNN_optimized_for_f1_score. items(), key=lambda x: x[1][3], reverse=True))\n",
    "#for k,v in kNN_optimized_for_f1_score.items():\n",
    "#  print(k, v)\n"
   ]
  },
  {
   "cell_type": "markdown",
   "metadata": {
    "id": "dhon_PuWP_zy"
   },
   "source": [
    "## Η καλύτερη βελτιστοποίηση από τις επιλογές μας ως προς F1-Score του kNN τυπώνεται παρακάτω."
   ]
  },
  {
   "cell_type": "code",
   "execution_count": null,
   "metadata": {
    "colab": {
     "base_uri": "https://localhost:8080/"
    },
    "id": "8lqyVb1Xoo6v",
    "outputId": "6e433969-b08f-4581-fb8c-833caa3f3b01"
   },
   "outputs": [
    {
     "name": "stdout",
     "output_type": "stream",
     "text": [
      "The Best estimator for kNN contains : [RandomOverSampler(), PCA(n_components=3)]\n",
      "Number of neighbors for kNN are : 2\n",
      "P parameter of kNN is : 1\n",
      "Fit time is = 35.15430307388306\n",
      "Predict time is = 0.10376167297363281\n",
      "F1-Score is = 0.729616724738676\n"
     ]
    }
   ],
   "source": [
    "# save best options for f1 for our optimized classifiers \n",
    "\n",
    "best_optimized_options_for_f1 = {}\n",
    "\n",
    "for k,v in kNN_optimized_for_f1_score.items():\n",
    "  estimator_parameters = []\n",
    "  for i in range(len(k) - 1):\n",
    "    estimator_parameters.append(k[i])\n",
    "  if len(k):\n",
    "    print(\"The Best estimator for kNN contains : \" + str(estimator_parameters))\n",
    "  else:\n",
    "    print(\"The Best estimator for kNN contains no dataset preprocessing\")\n",
    "  inner_i = 0;\n",
    "  for innerK, innerV in v[0].items():\n",
    "    if inner_i == 0:\n",
    "      number_of_neighbors = innerV\n",
    "    if inner_i == 1:\n",
    "      p_parameter = innerV\n",
    "    inner_i += 1\n",
    "  print(\"Number of neighbors for kNN are : \" + str(number_of_neighbors))\n",
    "  print(\"P parameter of kNN is : \" + str(p_parameter))\n",
    "  print(\"Fit time is = \" + str(v[1]))\n",
    "  print(\"Predict time is = \" + str(v[2]))\n",
    "  print(\"F1-Score is = \" + str(v[3]))\n",
    "  # save best optimizations for f1 metric\n",
    "  best_optimized_options_for_f1[k] = v\n",
    "  f1_results_compare['Knn Neighbors(optimized)'] = [str(estimator_parameters), f'Neigbors = {number_of_neighbors}, P = {p_parameter}', v[1], v[2], v[3]]\n",
    "  break\n",
    "#print(best_optimized_options_for_f1)"
   ]
  },
  {
   "cell_type": "markdown",
   "metadata": {
    "id": "odo2SAMkjhYl"
   },
   "source": [
    "## Παρακάτω θα βελτιστοποιήσουμε τoν kNN ως προς accuracy.\n",
    "## Ουσιαστικά αλλάζουμε στο gridSearch την παράμετρο scoring σε accuracy.\n"
   ]
  },
  {
   "cell_type": "code",
   "execution_count": null,
   "metadata": {
    "id": "eLrJKUBZqhh_"
   },
   "outputs": [],
   "source": [
    "kNN_optimized_for_accuracy = {}\n",
    "\n",
    "simplefilter(\"ignore\", category=FitFailedWarning)\n",
    "simplefilter(\"ignore\", category=UserWarning)\n",
    "\n",
    "\n",
    "for i in range(len(pars)):\n",
    "  estimator_accuracy = GridSearchCV(pips[i], pars[i], cv=10, scoring='accuracy', n_jobs=-1)\n",
    "  # calculate fit time\n",
    "  start_time_fit = time.time()\n",
    "  estimator_accuracy.fit(train, train_labels)\n",
    "  fit_time = time.time() - start_time_fit\n",
    "  # calculate predict time\n",
    "  start_time_predict = time.time()\n",
    "  preds = estimator_accuracy.predict(test)\n",
    "  predict_time = time.time() - start_time_predict\n",
    "  cnf_matrix = confusion_matrix(test_labels, preds)\n",
    "  kNN_optimized_for_accuracy[estimator_accuracy.best_estimator_] = [estimator_accuracy.best_params_, \n",
    "                               fit_time, predict_time, accuracy_score(test_labels, preds), cnf_matrix]\n",
    "\n",
    "kNN_optimized_for_accuracy = dict(sorted(kNN_optimized_for_accuracy. items(), key=lambda x: x[1][3], reverse=True))\n",
    "#for k,v in kNN_optimized_for_accuracy.items():\n",
    "#  print(k, v)"
   ]
  },
  {
   "cell_type": "markdown",
   "metadata": {
    "id": "CW29A--hQP-q"
   },
   "source": [
    "## Η καλύτερη βελτιστοποίηση από τις επιλογές μας ως προς accuracy του kNN τυπώνεται παρακάτω."
   ]
  },
  {
   "cell_type": "code",
   "execution_count": null,
   "metadata": {
    "colab": {
     "base_uri": "https://localhost:8080/"
    },
    "id": "WZ8776_MQQUR",
    "outputId": "2f1d6e4f-b0e9-4fa7-e2a4-6c3a86e55891"
   },
   "outputs": [
    {
     "name": "stdout",
     "output_type": "stream",
     "text": [
      "The Best estimator for kNN contains : [PCA(n_components=1)]\n",
      "Number of neighbors for kNN are : 11\n",
      "P parameter of kNN is : 2\n",
      "Fit time is = 33.72326350212097\n",
      "Predict time is = 0.10402774810791016\n",
      "Accuracy is = 0.8\n"
     ]
    }
   ],
   "source": [
    "# save best options for accuracy for our optimized classifiers \n",
    "\n",
    "best_optimized_options_for_accuracy = {}\n",
    "\n",
    "for k,v in kNN_optimized_for_accuracy.items():\n",
    "  estimator_parameters = []\n",
    "  for i in range(len(k) - 1):\n",
    "    estimator_parameters.append(k[i])\n",
    "  if len(k):\n",
    "    print(\"The Best estimator for kNN contains : \" + str(estimator_parameters))\n",
    "  else:\n",
    "    print(\"The Best estimator for kNN contains no dataset preprocessing\")\n",
    "  inner_i = 0;\n",
    "  for innerK, innerV in v[0].items():\n",
    "    if inner_i == 0:\n",
    "      number_of_neighbors = innerV\n",
    "    if inner_i == 1:\n",
    "      p_parameter = innerV\n",
    "    inner_i += 1\n",
    "  print(\"Number of neighbors for kNN are : \" + str(number_of_neighbors))\n",
    "  print(\"P parameter of kNN is : \" + str(p_parameter))\n",
    "  print(\"Fit time is = \" + str(v[1]))\n",
    "  print(\"Predict time is = \" + str(v[2]))\n",
    "  print(\"Accuracy is = \" + str(v[3]))\n",
    "  # save best options\n",
    "  best_optimized_options_for_accuracy[k] = v\n",
    "  accuracy_results_compare['Knn Neighbors(optimized)'] = [str(estimator_parameters), f'Neigbors = {number_of_neighbors}, P = {p_parameter}', v[1], v[2], v[3]]\n",
    "  break\n",
    "#print(best_optimized_options_for_accuracy)"
   ]
  },
  {
   "cell_type": "markdown",
   "metadata": {
    "id": "yjOyX1Z6RGXo"
   },
   "source": [
    "# Βελτιστοποίηση του Gaussian Naive Bayes (GNB) \n"
   ]
  },
  {
   "cell_type": "code",
   "execution_count": null,
   "metadata": {
    "id": "UxZI-WMxRa43"
   },
   "outputs": [],
   "source": [
    "gnb_optimal = GaussianNB()\n",
    "\n",
    "vthreshold = [0, 0.1, 0.15, 0.20, 0.22, sorted(train_variance)[len(sorted(train_variance)) - 2]] # προσαρμόζουμε τις τιμές μας στο variance που παρατηρήσαμε\n",
    "n_components = [1, 3, 6, 9, 11] # PCA - τελικός αριθμός features\n",
    "var_smoothing = [1e-8, 1e-9, 1e-10, 1e-11, 1e-12] # η υπερπαράμετρος του ταξινομητή GaussianNB\n",
    "strategy = ['auto', 0.6, 0.7, 0.8]\n",
    "\n",
    "# προεπεξεργασια dataset : selector, scaler, ros, pca - Υπερπαράμετρος = var_smoothing\n",
    "pipeline_gnb_0 = Pipeline(steps=[('selector', selector), ('scaler', scaler), ('sampler', ros), ('pca', pca), ('gnb', gnb_optimal)], memory = 'tmp')\n",
    "parameters_gnb_0 = dict(selector__threshold=vthreshold, pca__n_components=n_components, gnb__var_smoothing=var_smoothing)\n",
    "\n",
    "# προεπεξεργασια dataset : selector, scaler, ros - Υπερπαράμετρος = var_smoothing\n",
    "pipeline_gnb_1 = Pipeline(steps=[('selector', selector), ('scaler', scaler), ('sampler', ros), ('gnb', gnb_optimal)], memory = 'tmp')\n",
    "parameters_gnb_1 = dict(selector__threshold=vthreshold, gnb__var_smoothing=var_smoothing)\n",
    "\n",
    "# προεπεξεργασια dataset : selector, scaler, smote - Υπερπαράμετρος = var_smoothing\n",
    "pipeline_gnb_2 = Pipeline(steps=[('selector', selector), ('scaler', scaler), ('sampler', smote), ('gnb', gnb_optimal)], memory = 'tmp')\n",
    "parameters_gnb_2 = dict(selector__threshold=vthreshold, sampler__sampling_strategy=strategy, gnb__var_smoothing=var_smoothing)\n",
    "\n",
    "# προεπεξεργασια dataset : selector, ros, pca - Υπερπαράμετρος = var_smoothing\n",
    "pipeline_gnb_3 = Pipeline(steps=[('selector', selector), ('sampler', ros), ('pca', pca), ('gnb', gnb_optimal)], memory = 'tmp')\n",
    "parameters_gnb_3 = dict(selector__threshold=vthreshold, pca__n_components=n_components, gnb__var_smoothing=var_smoothing)\n",
    "\n",
    "# προεπεξεργασια dataset : selector, smote, pca - Υπερπαράμετρος = var_smoothing\n",
    "pipeline_gnb_4 = Pipeline(steps=[('selector', selector), ('sampler', smote), ('pca', pca), ('gnb', gnb_optimal)], memory = 'tmp')\n",
    "parameters_gnb_4 = dict(selector__threshold=vthreshold, pca__n_components=n_components, sampler__sampling_strategy=strategy, gnb__var_smoothing=var_smoothing)\n",
    "\n",
    "# προεπεξεργασια dataset : selector, scaler, pca - Υπερπαράμετρος = var_smoothing\n",
    "pipeline_gnb_5 = Pipeline(steps=[('selector', selector), ('scaler', scaler), ('pca', pca), ('gnb', gnb_optimal)], memory = 'tmp')\n",
    "parameters_gnb_5 = dict(selector__threshold=vthreshold, pca__n_components=n_components, gnb__var_smoothing=var_smoothing)\n",
    "\n",
    "# προεπεξεργασια dataset : scaler, ros, pca - Υπερπαράμετρος = var_smoothing\n",
    "pipeline_gnb_6 = Pipeline(steps=[('scaler', scaler), ('sampler', ros), ('pca', pca), ('gnb', gnb_optimal)], memory = 'tmp')\n",
    "parameters_gnb_6 = dict(pca__n_components=n_components, gnb__var_smoothing=var_smoothing)\n",
    "\n",
    "# προεπεξεργασια dataset : scaler, smote, pca - Υπερπαράμετρος = var_smoothing\n",
    "pipeline_gnb_7 = Pipeline(steps=[('scaler', scaler), ('sampler', smote), ('pca', pca), ('gnb', gnb_optimal)], memory = 'tmp')\n",
    "parameters_gnb_7 = dict(pca__n_components=n_components, sampler__sampling_strategy=strategy, gnb__var_smoothing=var_smoothing)\n",
    "\n",
    "# προεπεξεργασια dataset : scaler, ros - Υπερπαράμετρος = var_smoothing\n",
    "pipeline_gnb_8 = Pipeline(steps=[('scaler', scaler), ('sampler', ros), ('gnb', gnb_optimal)], memory = 'tmp')\n",
    "parameters_gnb_8 = dict(gnb__var_smoothing=var_smoothing)\n",
    "\n",
    "# προεπεξεργασια dataset : scaler, smote - Υπερπαράμετρος = var_smoothing\n",
    "pipeline_gnb_9 = Pipeline(steps=[('scaler', scaler), ('sampler', smote), ('gnb', gnb_optimal)], memory = 'tmp')\n",
    "parameters_gnb_9 = dict(sampler__sampling_strategy=strategy, gnb__var_smoothing=var_smoothing)\n",
    "\n",
    "# προεπεξεργασια dataset : scaler, pca - Υπερπαράμετρος = var_smoothing\n",
    "pipeline_gnb_10 = Pipeline(steps=[('scaler', scaler), ('pca', pca), ('gnb', gnb_optimal)], memory = 'tmp')\n",
    "parameters_gnb_10 = dict(pca__n_components=n_components, gnb__var_smoothing=var_smoothing)\n",
    "\n",
    "# προεπεξεργασια dataset : smote, pca - Υπερπαράμετρος = var_smoothing\n",
    "pipeline_gnb_11 = Pipeline(steps=[('sampler', smote), ('pca', pca), ('gnb', gnb_optimal)], memory = 'tmp')\n",
    "parameters_gnb_11 = dict(sampler__sampling_strategy=strategy, pca__n_components=n_components, gnb__var_smoothing=var_smoothing)\n",
    "\n",
    "# προεπεξεργασια dataset : ros, pca - Υπερπαράμετρος = var_smoothing\n",
    "pipeline_gnb_12 = Pipeline(steps=[('sampler', ros), ('pca', pca), ('gnb', gnb_optimal)], memory = 'tmp')\n",
    "parameters_gnb_12 = dict(pca__n_components=n_components, gnb__var_smoothing=var_smoothing)\n",
    "\n",
    "# προεπεξεργασια dataset : selector, pca - Υπερπαράμετρος = var_smoothing\n",
    "pipeline_gnb_13 = Pipeline(steps=[('selector', selector), ('pca', pca), ('gnb', gnb_optimal)], memory = 'tmp')\n",
    "parameters_gnb_13 = dict(selector__threshold=vthreshold, pca__n_components=n_components, gnb__var_smoothing=var_smoothing)\n",
    "\n",
    "# προεπεξεργασια dataset : selector, scaler - Υπερπαράμετρος = var_smoothing\n",
    "pipeline_gnb_14 = Pipeline(steps=[('selector', selector), ('scaler', scaler), ('gnb', gnb_optimal)], memory = 'tmp')\n",
    "parameters_gnb_14 = dict(selector__threshold=vthreshold, gnb__var_smoothing=var_smoothing)\n",
    "\n",
    "# προεπεξεργασια dataset : selector, ros - Υπερπαράμετρος = var_smoothing\n",
    "pipeline_gnb_15 = Pipeline(steps=[('selector', selector), ('sampler', ros), ('gnb', gnb_optimal)], memory = 'tmp')\n",
    "parameters_gnb_15 = dict(selector__threshold=vthreshold, gnb__var_smoothing=var_smoothing)\n",
    "\n",
    "# προεπεξεργασια dataset : selector, smote - Υπερπαράμετρος = var_smoothing\n",
    "pipeline_gnb_16 = Pipeline(steps=[('selector', selector), ('sampler', smote), ('gnb', gnb_optimal)], memory = 'tmp')\n",
    "parameters_gnb_16 = dict(selector__threshold=vthreshold, sampler__sampling_strategy=strategy, gnb__var_smoothing=var_smoothing)\n",
    "                    \n",
    "# προεπεξεργασια dataset : ros - Υπερπαράμετρος = var_smoothing\n",
    "pipeline_gnb_17 = Pipeline(steps=[('sampler', ros), ('gnb', gnb_optimal)], memory = 'tmp')\n",
    "parameters_gnb_17 = dict(gnb__var_smoothing=var_smoothing)\n",
    "\n",
    "# προεπεξεργασια dataset : smote - Υπερπαράμετρος = var_smoothing\n",
    "pipeline_gnb_18 = Pipeline(steps=[('sampler', smote), ('gnb', gnb_optimal)], memory = 'tmp')\n",
    "parameters_gnb_18 = dict(sampler__sampling_strategy=strategy, gnb__var_smoothing=var_smoothing)\n",
    "\n",
    "# προεπεξεργασια dataset : selector - Υπερπαράμετρος = var_smoothing\n",
    "pipeline_gnb_19 = Pipeline(steps=[('selector', selector), ('gnb', gnb_optimal)], memory = 'tmp')\n",
    "parameters_gnb_19 = dict(selector__threshold=vthreshold, gnb__var_smoothing=var_smoothing)\n",
    "\n",
    "# προεπεξεργασια dataset : pca - Υπερπαράμετρος = var_smoothing\n",
    "pipeline_gnb_20 = Pipeline(steps=[('pca', pca), ('gnb', gnb_optimal)], memory = 'tmp')\n",
    "parameters_gnb_20 = dict(pca__n_components=n_components, gnb__var_smoothing=var_smoothing)\n",
    "\n",
    "# προεπεξεργασια dataset : καμία - Υπερπαράμετρος = var_smoothing\n",
    "pipeline_gnb_21 =  Pipeline(steps=[('gnb', gnb_optimal)], memory = 'tmp')\n",
    "parameters_gnb_21 = dict(gnb__var_smoothing=var_smoothing)\n",
    "\n",
    "pips_gnb = [pipeline_gnb_0, pipeline_gnb_1, pipeline_gnb_2, pipeline_gnb_3, pipeline_gnb_4,\n",
    "            pipeline_gnb_5, pipeline_gnb_6, pipeline_gnb_7, pipeline_gnb_8, pipeline_gnb_9, \n",
    "            pipeline_gnb_10, pipeline_gnb_11, pipeline_gnb_12, pipeline_gnb_13, pipeline_gnb_14, \n",
    "            pipeline_gnb_15, pipeline_gnb_16, pipeline_gnb_17, pipeline_gnb_18, pipeline_gnb_19, \n",
    "            pipeline_gnb_20, pipeline_gnb_21]\n",
    "\n",
    "pars_gnb = [parameters_gnb_0, parameters_gnb_1, parameters_gnb_2, parameters_gnb_3, parameters_gnb_4,\n",
    "            parameters_gnb_5, parameters_gnb_6, parameters_gnb_7, parameters_gnb_8, parameters_gnb_9,\n",
    "            parameters_gnb_10, parameters_gnb_11, parameters_gnb_12, parameters_gnb_13, parameters_gnb_14,\n",
    "            parameters_gnb_15, parameters_gnb_16, parameters_gnb_17, parameters_gnb_18, parameters_gnb_19,\n",
    "            parameters_gnb_20, parameters_gnb_21]"
   ]
  },
  {
   "cell_type": "markdown",
   "metadata": {
    "id": "LPK_WAgPgApB"
   },
   "source": [
    "## Βελτιστοποίηση GaussianNB ως προς F1-Score (average = weighted)"
   ]
  },
  {
   "cell_type": "code",
   "execution_count": null,
   "metadata": {
    "id": "z_djRzxFV1pO"
   },
   "outputs": [],
   "source": [
    "gnb_optimized_for_f1_score = {}\n",
    "\n",
    "simplefilter(\"ignore\", category=FitFailedWarning)\n",
    "simplefilter(\"ignore\", category=UserWarning)\n",
    "\n",
    "for i in range(len(pars_gnb)):\n",
    "  estimator_gnb_f1 = GridSearchCV(pips_gnb[i], pars_gnb[i], cv=10, scoring='f1_weighted', n_jobs=-1)\n",
    "  # calculate fit time\n",
    "  start_time_fit = time.time()\n",
    "  estimator_gnb_f1.fit(train, train_labels)\n",
    "  fit_time = time.time() - start_time_fit\n",
    "  # calculate predict time\n",
    "  start_time_predict = time.time()\n",
    "  preds = estimator_gnb_f1.predict(test)\n",
    "  predict_time = time.time() - start_time_predict\n",
    "  cnf_matrix = confusion_matrix(test_labels, preds)\n",
    "  gnb_optimized_for_f1_score[estimator_gnb_f1.best_estimator_] = [estimator_gnb_f1.best_params_, \n",
    "                                fit_time, predict_time, f1_score(test_labels, preds, average='weighted'), cnf_matrix]\n",
    "  \n",
    "gnb_optimized_for_f1_score = dict(sorted(gnb_optimized_for_f1_score. items(), key=lambda x: x[1][3], reverse=True))\n",
    "#for k,v in gnb_optimized_for_f1_score.items():\n",
    "#  print(k, v)"
   ]
  },
  {
   "cell_type": "markdown",
   "metadata": {
    "id": "Kax8EOywd-hU"
   },
   "source": [
    "## Η καλύτερη βελτιστοποίηση από τις επιλογές μας ως προς F1-Score του GaussianNB τυπώνεται παρακάτω."
   ]
  },
  {
   "cell_type": "code",
   "execution_count": null,
   "metadata": {
    "colab": {
     "base_uri": "https://localhost:8080/"
    },
    "id": "c0QjXBAbeGm9",
    "outputId": "cd621bbf-22c1-4ab5-faba-941965e8630b"
   },
   "outputs": [
    {
     "name": "stdout",
     "output_type": "stream",
     "text": [
      "The Best estimator for GaussianNB  contains : [VarianceThreshold(threshold=0.1), SMOTE(sampling_strategy=0.6), PCA(n_components=6)]\n",
      "Value of var_smoothing for GaussianNB is : 1e-08\n",
      "Fit time is = 40.73969054222107\n",
      "Predict time is = 0.0006055831909179688\n",
      "F1-Score is = 0.7285714285714285\n"
     ]
    }
   ],
   "source": [
    "for k,v in gnb_optimized_for_f1_score.items():\n",
    "  estimator_parameters = []\n",
    "  for i in range(len(k) - 1):\n",
    "    estimator_parameters.append(k[i])\n",
    "  if len(k):\n",
    "    print(\"The Best estimator for GaussianNB  contains : \" + str(estimator_parameters))\n",
    "  else:\n",
    "    print(\"The Best estimator for GaussianNB  contains no dataset preprocessing\")\n",
    "  var_smooth = next(iter(v[0].values()))\n",
    "  print(\"Value of var_smoothing for GaussianNB is : \" + str(var_smooth))\n",
    "  print(\"Fit time is = \" + str(v[1]))\n",
    "  print(\"Predict time is = \" + str(v[2]))\n",
    "  print(\"F1-Score is = \" + str(v[3]))\n",
    "  # save best options\n",
    "  best_optimized_options_for_f1[k] = v\n",
    "  f1_results_compare['Gaussian NB(optimized)'] = [str(estimator_parameters), f'Var_smoothing = {var_smooth}', v[1], v[2], v[3]]\n",
    "  break"
   ]
  },
  {
   "cell_type": "markdown",
   "metadata": {
    "id": "nG5g3ouegH0K"
   },
   "source": [
    "## Παρακάτω θα βελτιστοποιήσουμε τoν GaussianNB ως προς accuracy.\n",
    "## Ουσιαστικά αλλάζουμε στο gridSearch την παράμετρο scoring σε accuracy."
   ]
  },
  {
   "cell_type": "code",
   "execution_count": null,
   "metadata": {
    "id": "1djD4VECi25O"
   },
   "outputs": [],
   "source": [
    "gnb_optimized_for_accuracy = {}\n",
    "\n",
    "simplefilter(\"ignore\", category=FitFailedWarning)\n",
    "simplefilter(\"ignore\", category=UserWarning)\n",
    "\n",
    "for i in range(len(pars_gnb)):\n",
    "  estimator_gnb_accuracy= GridSearchCV(pips_gnb[i], pars_gnb[i], cv=10, scoring='accuracy', n_jobs=-1)\n",
    "  # calculate fit time\n",
    "  start_time_fit = time.time()\n",
    "  estimator_gnb_accuracy.fit(train, train_labels)\n",
    "  fit_time = time.time() - start_time_fit\n",
    "  # calculate predict time\n",
    "  start_time_predict = time.time()\n",
    "  preds = estimator_gnb_accuracy.predict(test)\n",
    "  predict_time = time.time() - start_time_predict\n",
    "  cnf_matrix = confusion_matrix(test_labels, preds)\n",
    "  gnb_optimized_for_accuracy[estimator_gnb_accuracy.best_estimator_] = [estimator_gnb_accuracy.best_params_, \n",
    "                                fit_time, predict_time, accuracy_score(test_labels, preds), cnf_matrix]\n",
    "  \n",
    "gnb_optimized_for_accuracy = dict(sorted(gnb_optimized_for_accuracy. items(), key=lambda x: x[1][3], reverse=True))\n",
    "#for k,v in gnb_optimized_for_accuracy.items():\n",
    "#  print(k, v)"
   ]
  },
  {
   "cell_type": "markdown",
   "metadata": {
    "id": "yqYqjG4Qj6L7"
   },
   "source": [
    "## Η καλύτερη βελτιστοποίηση από τις επιλογές μας ως προς accuracy του GaussianNB τυπώνεται παρακάτω."
   ]
  },
  {
   "cell_type": "code",
   "execution_count": null,
   "metadata": {
    "colab": {
     "base_uri": "https://localhost:8080/"
    },
    "id": "4h7Vj3I1j9h9",
    "outputId": "e2472e02-e256-4465-e798-5c88047abbcb"
   },
   "outputs": [
    {
     "name": "stdout",
     "output_type": "stream",
     "text": [
      "The Best estimator for GaussianNB contains : [VarianceThreshold(threshold=0.20710102328070296), StandardScaler(), SMOTE(sampling_strategy=0.6)]\n",
      "Value of var_smoothing for GaussianNB is : 1e-08\n",
      "Fit time is = 7.974903345108032\n",
      "Predict time is = 0.00046181678771972656\n",
      "Accuracy is = 0.8\n"
     ]
    }
   ],
   "source": [
    "for k,v in gnb_optimized_for_accuracy.items():\n",
    "  estimator_parameters = []\n",
    "  for i in range(len(k) - 1):\n",
    "    estimator_parameters.append(k[i])\n",
    "  if len(k):\n",
    "    print(\"The Best estimator for GaussianNB contains : \" + str(estimator_parameters))\n",
    "  else:\n",
    "    print(\"The Best estimator for GaussianNB contains no dataset preprocessing\")\n",
    "  var_smooth = next(iter(v[0].values()))\n",
    "  print(\"Value of var_smoothing for GaussianNB is : \" + str(var_smooth))\n",
    "  print(\"Fit time is = \" + str(v[1]))\n",
    "  print(\"Predict time is = \" + str(v[2]))\n",
    "  print(\"Accuracy is = \" + str(v[3]))\n",
    "  # save best options\n",
    "  best_optimized_options_for_accuracy[k] = v\n",
    "  accuracy_results_compare['Gaussian NB(optimized)'] = [str(estimator_parameters), f'Var_smoothing = {var_smooth}', v[1], v[2], v[3]]\n",
    "  break"
   ]
  },
  {
   "cell_type": "markdown",
   "metadata": {
    "id": "GGFlWIdcl_h6"
   },
   "source": [
    "# Βελτιστοποίηση Logistic Regression\n"
   ]
  },
  {
   "cell_type": "code",
   "execution_count": null,
   "metadata": {
    "id": "nIIskfLamtU_"
   },
   "outputs": [],
   "source": [
    "LR_optimal = LogisticRegression(n_jobs=-1)\n",
    "\n",
    "vthreshold = [0, 0.1, 0.15, 0.20, 0.22, sorted(train_variance)[len(sorted(train_variance)) - 2]] # προσαρμόζουμε τις τιμές μας στο variance που παρατηρήσαμε\n",
    "n_components = [1, 3, 6, 9, 11] # PCA - τελικός αριθμός features\n",
    "strategy = ['auto', 0.6, 0.7, 0.8]\n",
    "penalty = ['l1', 'l2'] # η υπερπαράμετρος του ταξινομητή LogisticRegression\n",
    "solver = ['liblinear', 'lbfgs']\n",
    "max_iter = [300, 100, 80, 50]\n",
    "C = [1.0, 0.9, 0.8]\n",
    "\n",
    "# selector = VarianceThreshold(), scaler = StandardScaler(), ros = RandomOverSampler(), smote = SMOTE(), pca = PCA()\n",
    "\n",
    "# προεπεξεργασια dataset : selector, scaler, ros, pca - Υπερπαράμετρος = penalty, solver, C, max_iter\n",
    "pipeline_LR_0 = Pipeline(steps=[('selector', selector), ('scaler', scaler), ('sampler', ros), ('pca', pca), ('logreg', LR_optimal)], memory = 'tmp')\n",
    "parameters_LR_0 = dict(selector__threshold=vthreshold, pca__n_components=n_components,\n",
    "                        logreg__penalty=penalty, logreg__solver=solver, logreg__max_iter=max_iter, logreg__C=C)\n",
    "\n",
    "# προεπεξεργασια dataset : selector, scaler, ros - Υπερπαράμετρος = penalty, solver, C, max_iter\n",
    "pipeline_LR_1 = Pipeline(steps=[('selector', selector), ('scaler', scaler), ('sampler', ros), ('logreg', LR_optimal)], memory = 'tmp')\n",
    "parameters_LR_1 = dict(selector__threshold=vthreshold, \n",
    "                       logreg__penalty=penalty, logreg__solver=solver, logreg__max_iter=max_iter, logreg__C=C)\n",
    "\n",
    "# προεπεξεργασια dataset : selector, scaler, smote - Υπερπαράμετρος = penalty, solver, C, max_iter\n",
    "pipeline_LR_2 = Pipeline(steps=[('selector', selector), ('scaler', scaler), ('sampler', smote), ('logreg', LR_optimal)], memory = 'tmp')\n",
    "parameters_LR_2 = dict(selector__threshold=vthreshold, sampler__sampling_strategy=strategy,\n",
    "                       logreg__penalty=penalty, logreg__solver=solver, logreg__max_iter=max_iter, logreg__C=C)\n",
    "\n",
    "# προεπεξεργασια dataset : selector, ros, pca - Υπερπαράμετρος = penalty, solver, C, max_iter\n",
    "pipeline_LR_3 = Pipeline(steps=[('selector', selector), ('sampler', ros), ('pca', pca), ('logreg', LR_optimal)], memory = 'tmp')\n",
    "parameters_LR_3 = dict(selector__threshold=vthreshold, pca__n_components=n_components, \n",
    "                       logreg__penalty=penalty, logreg__solver=solver, logreg__max_iter=max_iter, logreg__C=C)\n",
    "\n",
    "# προεπεξεργασια dataset : selector, smote, pca - Υπερπαράμετρος = penalty, solver, C, max_iter\n",
    "pipeline_LR_4 = Pipeline(steps=[('selector', selector), ('sampler', smote), ('pca', pca), ('logreg', LR_optimal)], memory = 'tmp')\n",
    "parameters_LR_4 = dict(selector__threshold=vthreshold, sampler__sampling_strategy=strategy, pca__n_components=n_components, \n",
    "                       logreg__penalty=penalty, logreg__solver=solver, logreg__max_iter=max_iter, logreg__C=C)\n",
    "\n",
    "# προεπεξεργασια dataset : selector, scaler, pca - Υπερπαράμετρος = penalty, solver, C, max_iter\n",
    "pipeline_LR_5 = Pipeline(steps=[('selector', selector), ('scaler', scaler), ('pca', pca), ('logreg', LR_optimal)], memory = 'tmp')\n",
    "parameters_LR_5 = dict(selector__threshold=vthreshold, pca__n_components=n_components, \n",
    "                       logreg__penalty=penalty, logreg__solver=solver, logreg__max_iter=max_iter, logreg__C=C)\n",
    "\n",
    "# προεπεξεργασια dataset : scaler, ros, pca - Υπερπαράμετρος = penalty, solver, C, max_iter\n",
    "pipeline_LR_6 = Pipeline(steps=[('scaler', scaler), ('sampler', ros), ('pca', pca), ('logreg', LR_optimal)], memory = 'tmp')\n",
    "parameters_LR_6 = dict(pca__n_components=n_components, \n",
    "                       logreg__penalty=penalty, logreg__solver=solver, logreg__max_iter=max_iter, logreg__C=C)\n",
    "\n",
    "# προεπεξεργασια dataset : scaler, smote, pca - Υπερπαράμετρος = penalty, solver, C, max_iter\n",
    "pipeline_LR_7 = Pipeline(steps=[('scaler', scaler), ('sampler', smote), ('pca', pca), ('logreg', LR_optimal)], memory = 'tmp')\n",
    "parameters_LR_7 = dict(sampler__sampling_strategy=strategy, pca__n_components=n_components, \n",
    "                       logreg__penalty=penalty, logreg__solver=solver, logreg__max_iter=max_iter, logreg__C=C)\n",
    "\n",
    "# προεπεξεργασια dataset : scaler, ros - Υπερπαράμετρος = penalty, solver, C, max_iter\n",
    "pipeline_LR_8 = Pipeline(steps=[('scaler', scaler), ('sampler', ros), ('logreg', LR_optimal)], memory = 'tmp')\n",
    "parameters_LR_8 = dict(logreg__penalty=penalty, logreg__solver=solver, logreg__max_iter=max_iter, logreg__C=C)\n",
    "\n",
    "# προεπεξεργασια dataset : scaler, smote - Υπερπαράμετρος = penalty, solver, C, max_iter\n",
    "pipeline_LR_9 = Pipeline(steps=[('scaler', scaler), ('sampler', smote), ('logreg', LR_optimal)], memory = 'tmp')\n",
    "parameters_LR_9 = dict(sampler__sampling_strategy=strategy, logreg__penalty=penalty, logreg__solver=solver, logreg__max_iter=max_iter, logreg__C=C)\n",
    "\n",
    "# προεπεξεργασια dataset : scaler, pca - Υπερπαράμετρος = penalty, solver, C, max_iter\n",
    "pipeline_LR_10 = Pipeline(steps=[('scaler', scaler), ('pca', pca), ('logreg', LR_optimal)], memory = 'tmp')\n",
    "parameters_LR_10 = dict(pca__n_components=n_components, \n",
    "                        logreg__penalty=penalty, logreg__solver=solver, logreg__max_iter=max_iter, logreg__C=C)\n",
    "\n",
    "# προεπεξεργασια dataset : smote, pca - Υπερπαράμετρος = penalty, solver, C, max_iter\n",
    "pipeline_LR_11 = Pipeline(steps=[('sampler', smote), ('pca', pca), ('logreg', LR_optimal)], memory = 'tmp')\n",
    "parameters_LR_11 = dict(sampler__sampling_strategy=strategy, pca__n_components=n_components,\n",
    "                        logreg__penalty=penalty, logreg__solver=solver, logreg__max_iter=max_iter, logreg__C=C)\n",
    "\n",
    "# προεπεξεργασια dataset : ros, pca - Υπερπαράμετρος = penalty, solver, C, max_iter\n",
    "pipeline_LR_12 = Pipeline(steps=[('sampler', ros), ('pca', pca), ('logreg', LR_optimal)], memory = 'tmp')\n",
    "parameters_LR_12 = dict(pca__n_components=n_components, \n",
    "                        logreg__penalty=penalty, logreg__solver=solver, logreg__max_iter=max_iter, logreg__C=C)\n",
    "\n",
    "# προεπεξεργασια dataset : selector, pca - Υπερπαράμετρος = penalty, solver, C, max_iter\n",
    "pipeline_LR_13 = Pipeline(steps=[('selector', selector), ('pca', pca), ('logreg', LR_optimal)], memory = 'tmp')\n",
    "parameters_LR_13 = dict(selector__threshold=vthreshold, pca__n_components=n_components, \n",
    "                        logreg__penalty=penalty, logreg__solver=solver, logreg__max_iter=max_iter, logreg__C=C)\n",
    "\n",
    "# προεπεξεργασια dataset : selector, scaler - Υπερπαράμετρος = penalty, solver, C, max_iter\n",
    "pipeline_LR_14 = Pipeline(steps=[('selector', selector), ('scaler', scaler), ('logreg', LR_optimal)], memory = 'tmp')\n",
    "parameters_LR_14 = dict(selector__threshold=vthreshold, \n",
    "                        logreg__penalty=penalty, logreg__solver=solver, logreg__max_iter=max_iter, logreg__C=C)\n",
    "\n",
    "# προεπεξεργασια dataset : selector, ros - Υπερπαράμετρος = penalty, solver, C, max_iter\n",
    "pipeline_LR_15 = Pipeline(steps=[('selector', selector), ('sampler', ros), ('logreg', LR_optimal)], memory = 'tmp')\n",
    "parameters_LR_15 = dict(selector__threshold=vthreshold, \n",
    "                        logreg__penalty=penalty, logreg__solver=solver, logreg__max_iter=max_iter, logreg__C=C)\n",
    "\n",
    "# προεπεξεργασια dataset : selector, smote - Υπερπαράμετρος = penalty, solver, C, max_iter\n",
    "pipeline_LR_16 = Pipeline(steps=[('selector', selector), ('sampler', smote), ('logreg', LR_optimal)], memory = 'tmp')\n",
    "parameters_LR_16 = dict(sampler__sampling_strategy=strategy, selector__threshold=vthreshold, \n",
    "                        logreg__penalty=penalty, logreg__solver=solver, logreg__max_iter=max_iter, logreg__C=C)\n",
    "                    \n",
    "# προεπεξεργασια dataset : ros - Υπερπαράμετρος = penalty, solver, C, max_iter\n",
    "pipeline_LR_17 = Pipeline(steps=[('sampler', ros), ('logreg', LR_optimal)], memory = 'tmp')\n",
    "parameters_LR_17 = dict(logreg__penalty=penalty, logreg__solver=solver, logreg__max_iter=max_iter, logreg__C=C)\n",
    "\n",
    "# προεπεξεργασια dataset : smote - Υπερπαράμετρος = penalty, solver, C, max_iter\n",
    "pipeline_LR_18 = Pipeline(steps=[('sampler', smote), ('logreg', LR_optimal)], memory = 'tmp')\n",
    "parameters_LR_18 = dict(sampler__sampling_strategy=strategy, logreg__penalty=penalty, logreg__solver=solver, logreg__max_iter=max_iter, logreg__C=C)\n",
    "\n",
    "# προεπεξεργασια dataset : selector - Υπερπαράμετρος = penalty, solver, C, max_iter\n",
    "pipeline_LR_19 = Pipeline(steps=[('selector', selector), ('logreg', LR_optimal)], memory = 'tmp')\n",
    "parameters_LR_19 = dict(selector__threshold=vthreshold,\n",
    "                        logreg__penalty=penalty, logreg__solver=solver, logreg__max_iter=max_iter, logreg__C=C)\n",
    "\n",
    "# προεπεξεργασια dataset : pca - Υπερπαράμετρος = penalty, solver, C, max_iter\n",
    "pipeline_LR_20 = Pipeline(steps=[('pca', pca), ('logreg', LR_optimal)], memory = 'tmp')\n",
    "parameters_LR_20 = dict(pca__n_components=n_components, \n",
    "                        logreg__penalty=penalty, logreg__solver=solver, logreg__max_iter=max_iter, logreg__C=C)\n",
    "\n",
    "# προεπεξεργασια dataset : καμία - Υπερπαράμετρος = penalty, solver, C, max_iter\n",
    "pipeline_LR_21 =  Pipeline(steps=[('logreg', LR_optimal)], memory = 'tmp')\n",
    "parameters_LR_21 = dict(logreg__penalty=penalty, logreg__solver=solver, logreg__max_iter=max_iter, logreg__C=C)\n",
    "\n",
    "pips_LR = [pipeline_LR_0, pipeline_LR_1, pipeline_LR_2, pipeline_LR_3, pipeline_LR_4,\n",
    "           pipeline_LR_5, pipeline_LR_6, pipeline_LR_7, pipeline_LR_8, pipeline_LR_9,\n",
    "           pipeline_LR_10, pipeline_LR_11, pipeline_LR_12, pipeline_LR_13, pipeline_LR_14,\n",
    "           pipeline_LR_15, pipeline_LR_16, pipeline_LR_17, pipeline_LR_18, pipeline_LR_19,\n",
    "           pipeline_LR_20, pipeline_LR_21]\n",
    "\n",
    "pars_LR = [parameters_LR_0, parameters_LR_1, parameters_LR_2, parameters_LR_3, parameters_LR_4,\n",
    "           parameters_LR_5, parameters_LR_6, parameters_LR_7, parameters_LR_8, parameters_LR_9,\n",
    "           parameters_LR_10, parameters_LR_11, parameters_LR_12, parameters_LR_13, parameters_LR_14,\n",
    "           parameters_LR_15, parameters_LR_16, parameters_LR_17, parameters_LR_18, parameters_LR_19,\n",
    "           parameters_LR_20, parameters_LR_21]"
   ]
  },
  {
   "cell_type": "markdown",
   "metadata": {
    "id": "zx5B4m_frSAB"
   },
   "source": [
    "## Βελτιστοποίηση Logistic Regression ως προς F1-Score (average = weighted)"
   ]
  },
  {
   "cell_type": "code",
   "execution_count": null,
   "metadata": {
    "id": "dDof3q29rVvC"
   },
   "outputs": [],
   "source": [
    "logreg_optimized_for_f1_score = {}\n",
    "\n",
    "simplefilter(\"ignore\", category=FitFailedWarning)\n",
    "simplefilter(\"ignore\", category=UserWarning)\n",
    "\n",
    "for i in range(len(pars_gnb)):\n",
    "  estimator_logreg_f1 = GridSearchCV(pips_LR[i], pars_LR[i], cv=10, scoring='f1_weighted', n_jobs=-1)\n",
    "  # calculate fit time\n",
    "  start_time_fit = time.time()\n",
    "  estimator_logreg_f1.fit(train, train_labels)\n",
    "  fit_time = time.time() - start_time_fit\n",
    "  # calculate predict time\n",
    "  start_time_predict = time.time()\n",
    "  preds = estimator_logreg_f1.predict(test)\n",
    "  predict_time = time.time() - start_time_predict\n",
    "  cnf_matrix = confusion_matrix(test_labels, preds)\n",
    "  logreg_optimized_for_f1_score[estimator_logreg_f1.best_estimator_] = [estimator_logreg_f1.best_params_, \n",
    "                                fit_time, predict_time, f1_score(test_labels, preds, average='weighted'), cnf_matrix]\n",
    "                                \n",
    "logreg_optimized_for_f1_score = dict(sorted(logreg_optimized_for_f1_score. items(), key=lambda x: x[1][3], reverse=True))\n",
    "#for k,v in logreg_optimized_for_f1_score.items():\n",
    "#print(k, v)"
   ]
  },
  {
   "cell_type": "markdown",
   "metadata": {
    "id": "UDBQy1GBFVgn"
   },
   "source": [
    "## Η καλύτερη βελτιστοποίηση από τις επιλογές μας ως προς F1-Score του Logistic Regression τυπώνεται παρακάτω."
   ]
  },
  {
   "cell_type": "code",
   "execution_count": null,
   "metadata": {
    "colab": {
     "base_uri": "https://localhost:8080/"
    },
    "id": "FtDY5OoIFZD-",
    "outputId": "bda13321-aded-41da-a01a-aec578f6abe8"
   },
   "outputs": [
    {
     "name": "stdout",
     "output_type": "stream",
     "text": [
      "The Best estimator for Logistic Regression contains : [VarianceThreshold(threshold=0.15), SMOTE(sampling_strategy=0.8), PCA(n_components=3)]\n",
      "Huper parameters values for Logistic Regression are : \n",
      "logreg__C = 1.0\n",
      "logreg__max_iter = 300\n",
      "logreg__penalty = l2\n",
      "logreg__solver = liblinear\n",
      "Fit time is = 783.8346555233002\n",
      "Predict time is = 0.0005843639373779297\n",
      "F1-Score is = 0.747872340425532\n"
     ]
    }
   ],
   "source": [
    "for k,v in logreg_optimized_for_f1_score.items():\n",
    "  estimator_parameters = []\n",
    "  for i in range(len(k) - 1):\n",
    "    estimator_parameters.append(k[i])\n",
    "  if len(k):\n",
    "    print(\"The Best estimator for Logistic Regression contains : \" + str(estimator_parameters))\n",
    "  else:\n",
    "    print(\"The Best estimator for Logistic Regression contains no dataset preprocessing\")\n",
    "  inner_index = 0\n",
    "  log_reg_huper_parameters = []\n",
    "  print(\"Huper parameters values for Logistic Regression are : \")\n",
    "  for innerK, innerV in v[0].items():\n",
    "    print(str(innerK) + \" = \" + str(innerV))\n",
    "    log_reg_huper_parameters.append(str(innerK) + \" = \" + str(innerV))\n",
    "    inner_index += 1\n",
    "    if inner_index == 4:\n",
    "      break\n",
    "  print(\"Fit time is = \" + str(v[1]))\n",
    "  print(\"Predict time is = \" + str(v[2]))\n",
    "  print(\"F1-Score is = \" + str(v[3]))\n",
    "  # save best options\n",
    "  best_optimized_options_for_f1[k] = v\n",
    "  f1_results_compare['Logistic Regression(optimized)'] = [str(estimator_parameters), f'HyperParameters = {log_reg_huper_parameters}', v[1], v[2], v[3]]\n",
    "  break"
   ]
  },
  {
   "cell_type": "markdown",
   "metadata": {
    "id": "93Vth6nwFp4O"
   },
   "source": [
    "## Παρακάτω θα βελτιστοποιήσουμε τoν Logistic Regression ως προς accuracy.\n",
    "## Ουσιαστικά αλλάζουμε στο gridSearch την παράμετρο scoring σε accuracy."
   ]
  },
  {
   "cell_type": "code",
   "execution_count": null,
   "metadata": {
    "id": "8L5hsNXNF6Yx"
   },
   "outputs": [],
   "source": [
    "logreg_optimized_for_accuracy = {}\n",
    "\n",
    "simplefilter(\"ignore\", category=FitFailedWarning)\n",
    "simplefilter(\"ignore\", category=UserWarning)\n",
    "\n",
    "for i in range(len(pars_gnb)):\n",
    "  estimator_logreg_accuracy= GridSearchCV(pips_LR[i], pars_LR[i], cv=10, scoring='accuracy', n_jobs=-1)\n",
    "  # calculate fit time\n",
    "  start_time_fit = time.time()\n",
    "  estimator_logreg_accuracy.fit(train, train_labels)\n",
    "  fit_time = time.time() - start_time_fit\n",
    "  # calculate predict time\n",
    "  start_time_predict = time.time()\n",
    "  preds = estimator_logreg_accuracy.predict(test)\n",
    "  predict_time = time.time() - start_time_predict\n",
    "  cnf_matrix = confusion_matrix(test_labels, preds)\n",
    "  logreg_optimized_for_accuracy[estimator_logreg_accuracy.best_estimator_] = [estimator_logreg_accuracy.best_params_, \n",
    "                                fit_time, predict_time, accuracy_score(test_labels, preds), cnf_matrix]\n",
    "  \n",
    "logreg_optimized_for_accuracy = dict(sorted(logreg_optimized_for_accuracy. items(), key=lambda x: x[1][3], reverse=True))"
   ]
  },
  {
   "cell_type": "markdown",
   "metadata": {
    "id": "-UUgMXHQGT49"
   },
   "source": [
    "## Η καλύτερη βελτιστοποίηση από τις επιλογές μας ως προς accuracy του Logistic Regression τυπώνεται παρακάτω."
   ]
  },
  {
   "cell_type": "code",
   "execution_count": null,
   "metadata": {
    "colab": {
     "base_uri": "https://localhost:8080/"
    },
    "id": "lmzHvcMFGh1M",
    "outputId": "ff8534e7-2331-4773-a01d-317a99798353"
   },
   "outputs": [
    {
     "name": "stdout",
     "output_type": "stream",
     "text": [
      "The Best estimator for Logistic Regression contains : [VarianceThreshold(threshold=0.15), SMOTE(sampling_strategy=0.8), PCA(n_components=1)]\n",
      "Huper parameters values for Logistic Regression are : \n",
      "logreg__C = 1.0\n",
      "logreg__max_iter = 300\n",
      "logreg__penalty = l1\n",
      "logreg__solver = liblinear\n",
      "Fit time is = 769.2047352790833\n",
      "Predict time is = 0.0005731582641601562\n",
      "Accuracy is = 0.8\n"
     ]
    }
   ],
   "source": [
    "for k,v in logreg_optimized_for_accuracy.items():\n",
    "  estimator_parameters = []\n",
    "  for i in range(len(k) - 1):\n",
    "    estimator_parameters.append(k[i])\n",
    "  if len(k):\n",
    "    print(\"The Best estimator for Logistic Regression contains : \" + str(estimator_parameters))\n",
    "  else:\n",
    "    print(\"The Best estimator for Logistic Regression contains no dataset preprocessing\")\n",
    "  inner_index = 0\n",
    "  log_reg_huper_parameters = []\n",
    "  print(\"Huper parameters values for Logistic Regression are : \")\n",
    "  for innerK, innerV in v[0].items():\n",
    "    print(str(innerK) + \" = \" + str(innerV))\n",
    "    log_reg_huper_parameters.append(str(innerK) + \" = \" + str(innerV))\n",
    "    inner_index += 1\n",
    "    if inner_index == 4:\n",
    "      break\n",
    "  print(\"Fit time is = \" + str(v[1]))\n",
    "  print(\"Predict time is = \" + str(v[2]))\n",
    "  print(\"Accuracy is = \" + str(v[3]))\n",
    "  # save best options\n",
    "  best_optimized_options_for_accuracy[k] = v\n",
    "  accuracy_results_compare['Logistic Regression(optimized)'] = [str(estimator_parameters), f'HyperParameters = {log_reg_huper_parameters}', v[1], v[2], v[3]]\n",
    "  break\n"
   ]
  },
  {
   "cell_type": "markdown",
   "metadata": {
    "id": "B6rS1qBRVWtF"
   },
   "source": [
    "# Παρακάτω θα παρουσιάσουμε τα αποτελέσματα της βελτιστοποίησης\n",
    "\n",
    "## Θα απεικονίσουμε τη μεταβολή των βελτιστοποιημένων ταξινομητών σε σχέση με την out-of-the-box επιδοσή τους. Επίσης θα απεικονίσουμε τους 2 χρόνους, fit και predict, των βελτιστοποιημένων ταξινομητών. Στο dataframe παρακάτω και στο bar-plot παρακάτω φαίνονται οι αρχικές out-of-the-box επιδόσεις και οι <u>**καλύτερες**</u> βελτιστοποιημένες επιδόσεις των ταξινομητών (KNeighborsClassifier, GaussianNB, LogisticRegression)."
   ]
  },
  {
   "cell_type": "code",
   "execution_count": null,
   "metadata": {
    "id": "-oi2WUlMWzJa"
   },
   "outputs": [],
   "source": [
    "dataFrame_accuracy_results_compare = []\n",
    "dataFrame_f1_scores_compare = []\n",
    "\n",
    "#sort the dictionaries\n",
    "sorted_accuracy_results_compare = dict(sorted(accuracy_results_compare. items(), key=lambda x: x[1][4], reverse=True))\n",
    "sorted_f1_results_compare = dict(sorted(f1_results_compare. items(), key=lambda x: x[1][4], reverse=True))\n",
    "\n",
    "# Create a list of lists for accuracy\n",
    "index_i = 0\n",
    "for k,v in sorted_accuracy_results_compare.items():\n",
    "  classifier = k\n",
    "  values = v\n",
    "  index_i +=1\n",
    "  tupla = (index_i, k, v[0], v[1], v[2], v[3], v[4])\n",
    "  dataFrame_accuracy_results_compare.append(tupla)\n",
    "\n",
    "# Create a list of lists for f1 score\n",
    "index_j = 0\n",
    "for k,v in sorted_f1_results_compare.items():\n",
    "  classifier = k\n",
    "  values = v\n",
    "  index_j +=1\n",
    "  tupla = (index_j, k, v[0], v[1], v[2], v[3], v[4])\n",
    "  dataFrame_f1_scores_compare.append(tupla)\n",
    "\n",
    "# Create dataFrames to show results\n",
    "df_accuracy_results_compare = pd.DataFrame(dataFrame_accuracy_results_compare, columns =['Index','Classifier', 'Dataset Optimized', 'Classifier Optimized', 'Train Time', 'Test Time', 'Accuracy'])\n",
    "df_f1_scores_compare = pd.DataFrame(dataFrame_f1_scores_compare, columns =['Index','Classifier', 'Dataset Optimized', 'Classifier Optimized', 'Train Time', 'Test Time', 'F1-Score'])"
   ]
  },
  {
   "cell_type": "markdown",
   "metadata": {
    "id": "QAa8okaOWhSc"
   },
   "source": [
    "## Απεικόνιση accuracy με πίνακα (χρόνοι σε seconds)"
   ]
  },
  {
   "cell_type": "code",
   "execution_count": null,
   "metadata": {
    "colab": {
     "base_uri": "https://localhost:8080/",
     "height": 307
    },
    "id": "zENoFZRlqhvR",
    "outputId": "c99fd91f-f1b4-4f47-a8de-e933c194a803"
   },
   "outputs": [
    {
     "data": {
      "text/html": [
       "<style  type=\"text/css\" >\n",
       "    #T_9381dc78_5304_11ec_8157_0242ac1c0002 th {\n",
       "          text-align: left;\n",
       "    }#T_9381dc78_5304_11ec_8157_0242ac1c0002row0_col0,#T_9381dc78_5304_11ec_8157_0242ac1c0002row0_col1,#T_9381dc78_5304_11ec_8157_0242ac1c0002row0_col2,#T_9381dc78_5304_11ec_8157_0242ac1c0002row0_col3,#T_9381dc78_5304_11ec_8157_0242ac1c0002row0_col4,#T_9381dc78_5304_11ec_8157_0242ac1c0002row0_col5,#T_9381dc78_5304_11ec_8157_0242ac1c0002row0_col6,#T_9381dc78_5304_11ec_8157_0242ac1c0002row1_col0,#T_9381dc78_5304_11ec_8157_0242ac1c0002row1_col1,#T_9381dc78_5304_11ec_8157_0242ac1c0002row1_col2,#T_9381dc78_5304_11ec_8157_0242ac1c0002row1_col3,#T_9381dc78_5304_11ec_8157_0242ac1c0002row1_col4,#T_9381dc78_5304_11ec_8157_0242ac1c0002row1_col5,#T_9381dc78_5304_11ec_8157_0242ac1c0002row1_col6,#T_9381dc78_5304_11ec_8157_0242ac1c0002row2_col0,#T_9381dc78_5304_11ec_8157_0242ac1c0002row2_col1,#T_9381dc78_5304_11ec_8157_0242ac1c0002row2_col2,#T_9381dc78_5304_11ec_8157_0242ac1c0002row2_col3,#T_9381dc78_5304_11ec_8157_0242ac1c0002row2_col4,#T_9381dc78_5304_11ec_8157_0242ac1c0002row2_col5,#T_9381dc78_5304_11ec_8157_0242ac1c0002row2_col6,#T_9381dc78_5304_11ec_8157_0242ac1c0002row3_col0,#T_9381dc78_5304_11ec_8157_0242ac1c0002row3_col1,#T_9381dc78_5304_11ec_8157_0242ac1c0002row3_col2,#T_9381dc78_5304_11ec_8157_0242ac1c0002row3_col3,#T_9381dc78_5304_11ec_8157_0242ac1c0002row3_col4,#T_9381dc78_5304_11ec_8157_0242ac1c0002row3_col5,#T_9381dc78_5304_11ec_8157_0242ac1c0002row3_col6,#T_9381dc78_5304_11ec_8157_0242ac1c0002row4_col0,#T_9381dc78_5304_11ec_8157_0242ac1c0002row4_col1,#T_9381dc78_5304_11ec_8157_0242ac1c0002row4_col2,#T_9381dc78_5304_11ec_8157_0242ac1c0002row4_col3,#T_9381dc78_5304_11ec_8157_0242ac1c0002row4_col4,#T_9381dc78_5304_11ec_8157_0242ac1c0002row4_col5,#T_9381dc78_5304_11ec_8157_0242ac1c0002row4_col6,#T_9381dc78_5304_11ec_8157_0242ac1c0002row5_col0,#T_9381dc78_5304_11ec_8157_0242ac1c0002row5_col1,#T_9381dc78_5304_11ec_8157_0242ac1c0002row5_col2,#T_9381dc78_5304_11ec_8157_0242ac1c0002row5_col3,#T_9381dc78_5304_11ec_8157_0242ac1c0002row5_col4,#T_9381dc78_5304_11ec_8157_0242ac1c0002row5_col5,#T_9381dc78_5304_11ec_8157_0242ac1c0002row5_col6{\n",
       "            text-align:  left;\n",
       "        }</style><table id=\"T_9381dc78_5304_11ec_8157_0242ac1c0002\" class=\"dataframe\"><thead>    <tr>        <th class=\"col_heading level0 col0\" >Index</th>        <th class=\"col_heading level0 col1\" >Classifier</th>        <th class=\"col_heading level0 col2\" >Dataset Optimized</th>        <th class=\"col_heading level0 col3\" >Classifier Optimized</th>        <th class=\"col_heading level0 col4\" >Train Time</th>        <th class=\"col_heading level0 col5\" >Test Time</th>        <th class=\"col_heading level0 col6\" >Accuracy</th>    </tr></thead><tbody>\n",
       "                <tr>\n",
       "                                <td id=\"T_9381dc78_5304_11ec_8157_0242ac1c0002row0_col0\" class=\"data row0 col0\" >1</td>\n",
       "                        <td id=\"T_9381dc78_5304_11ec_8157_0242ac1c0002row0_col1\" class=\"data row0 col1\" >Logistic Regression(out-of-the-box)</td>\n",
       "                        <td id=\"T_9381dc78_5304_11ec_8157_0242ac1c0002row0_col2\" class=\"data row0 col2\" >default dataset</td>\n",
       "                        <td id=\"T_9381dc78_5304_11ec_8157_0242ac1c0002row0_col3\" class=\"data row0 col3\" >default parameters</td>\n",
       "                        <td id=\"T_9381dc78_5304_11ec_8157_0242ac1c0002row0_col4\" class=\"data row0 col4\" >0.005822</td>\n",
       "                        <td id=\"T_9381dc78_5304_11ec_8157_0242ac1c0002row0_col5\" class=\"data row0 col5\" >0.000205</td>\n",
       "                        <td id=\"T_9381dc78_5304_11ec_8157_0242ac1c0002row0_col6\" class=\"data row0 col6\" >0.800000</td>\n",
       "            </tr>\n",
       "            <tr>\n",
       "                                <td id=\"T_9381dc78_5304_11ec_8157_0242ac1c0002row1_col0\" class=\"data row1 col0\" >2</td>\n",
       "                        <td id=\"T_9381dc78_5304_11ec_8157_0242ac1c0002row1_col1\" class=\"data row1 col1\" >Knn Neighbors(optimized)</td>\n",
       "                        <td id=\"T_9381dc78_5304_11ec_8157_0242ac1c0002row1_col2\" class=\"data row1 col2\" >[PCA(n_components=1)]</td>\n",
       "                        <td id=\"T_9381dc78_5304_11ec_8157_0242ac1c0002row1_col3\" class=\"data row1 col3\" >Neigbors = 11, P = 2</td>\n",
       "                        <td id=\"T_9381dc78_5304_11ec_8157_0242ac1c0002row1_col4\" class=\"data row1 col4\" >33.723264</td>\n",
       "                        <td id=\"T_9381dc78_5304_11ec_8157_0242ac1c0002row1_col5\" class=\"data row1 col5\" >0.104028</td>\n",
       "                        <td id=\"T_9381dc78_5304_11ec_8157_0242ac1c0002row1_col6\" class=\"data row1 col6\" >0.800000</td>\n",
       "            </tr>\n",
       "            <tr>\n",
       "                                <td id=\"T_9381dc78_5304_11ec_8157_0242ac1c0002row2_col0\" class=\"data row2 col0\" >3</td>\n",
       "                        <td id=\"T_9381dc78_5304_11ec_8157_0242ac1c0002row2_col1\" class=\"data row2 col1\" >Gaussian NB(optimized)</td>\n",
       "                        <td id=\"T_9381dc78_5304_11ec_8157_0242ac1c0002row2_col2\" class=\"data row2 col2\" >[VarianceThreshold(threshold=0.20710102328070296), StandardScaler(), SMOTE(sampling_strategy=0.6)]</td>\n",
       "                        <td id=\"T_9381dc78_5304_11ec_8157_0242ac1c0002row2_col3\" class=\"data row2 col3\" >Var_smoothing = 1e-08</td>\n",
       "                        <td id=\"T_9381dc78_5304_11ec_8157_0242ac1c0002row2_col4\" class=\"data row2 col4\" >7.974903</td>\n",
       "                        <td id=\"T_9381dc78_5304_11ec_8157_0242ac1c0002row2_col5\" class=\"data row2 col5\" >0.000462</td>\n",
       "                        <td id=\"T_9381dc78_5304_11ec_8157_0242ac1c0002row2_col6\" class=\"data row2 col6\" >0.800000</td>\n",
       "            </tr>\n",
       "            <tr>\n",
       "                                <td id=\"T_9381dc78_5304_11ec_8157_0242ac1c0002row3_col0\" class=\"data row3 col0\" >4</td>\n",
       "                        <td id=\"T_9381dc78_5304_11ec_8157_0242ac1c0002row3_col1\" class=\"data row3 col1\" >Logistic Regression(optimized)</td>\n",
       "                        <td id=\"T_9381dc78_5304_11ec_8157_0242ac1c0002row3_col2\" class=\"data row3 col2\" >[VarianceThreshold(threshold=0.15), SMOTE(sampling_strategy=0.8), PCA(n_components=1)]</td>\n",
       "                        <td id=\"T_9381dc78_5304_11ec_8157_0242ac1c0002row3_col3\" class=\"data row3 col3\" >HyperParameters = ['logreg__C = 1.0', 'logreg__max_iter = 300', 'logreg__penalty = l1', 'logreg__solver = liblinear']</td>\n",
       "                        <td id=\"T_9381dc78_5304_11ec_8157_0242ac1c0002row3_col4\" class=\"data row3 col4\" >769.204735</td>\n",
       "                        <td id=\"T_9381dc78_5304_11ec_8157_0242ac1c0002row3_col5\" class=\"data row3 col5\" >0.000573</td>\n",
       "                        <td id=\"T_9381dc78_5304_11ec_8157_0242ac1c0002row3_col6\" class=\"data row3 col6\" >0.800000</td>\n",
       "            </tr>\n",
       "            <tr>\n",
       "                                <td id=\"T_9381dc78_5304_11ec_8157_0242ac1c0002row4_col0\" class=\"data row4 col0\" >5</td>\n",
       "                        <td id=\"T_9381dc78_5304_11ec_8157_0242ac1c0002row4_col1\" class=\"data row4 col1\" >Gaussian NB(out-of-the-box)</td>\n",
       "                        <td id=\"T_9381dc78_5304_11ec_8157_0242ac1c0002row4_col2\" class=\"data row4 col2\" >default dataset</td>\n",
       "                        <td id=\"T_9381dc78_5304_11ec_8157_0242ac1c0002row4_col3\" class=\"data row4 col3\" >default parameters</td>\n",
       "                        <td id=\"T_9381dc78_5304_11ec_8157_0242ac1c0002row4_col4\" class=\"data row4 col4\" >0.000680</td>\n",
       "                        <td id=\"T_9381dc78_5304_11ec_8157_0242ac1c0002row4_col5\" class=\"data row4 col5\" >0.000256</td>\n",
       "                        <td id=\"T_9381dc78_5304_11ec_8157_0242ac1c0002row4_col6\" class=\"data row4 col6\" >0.745455</td>\n",
       "            </tr>\n",
       "            <tr>\n",
       "                                <td id=\"T_9381dc78_5304_11ec_8157_0242ac1c0002row5_col0\" class=\"data row5 col0\" >6</td>\n",
       "                        <td id=\"T_9381dc78_5304_11ec_8157_0242ac1c0002row5_col1\" class=\"data row5 col1\" >Knn Neighbors(out-of-the-box)</td>\n",
       "                        <td id=\"T_9381dc78_5304_11ec_8157_0242ac1c0002row5_col2\" class=\"data row5 col2\" >default dataset</td>\n",
       "                        <td id=\"T_9381dc78_5304_11ec_8157_0242ac1c0002row5_col3\" class=\"data row5 col3\" >default parameters</td>\n",
       "                        <td id=\"T_9381dc78_5304_11ec_8157_0242ac1c0002row5_col4\" class=\"data row5 col4\" >0.001341</td>\n",
       "                        <td id=\"T_9381dc78_5304_11ec_8157_0242ac1c0002row5_col5\" class=\"data row5 col5\" >0.002521</td>\n",
       "                        <td id=\"T_9381dc78_5304_11ec_8157_0242ac1c0002row5_col6\" class=\"data row5 col6\" >0.727273</td>\n",
       "            </tr>\n",
       "    </tbody></table>"
      ],
      "text/plain": [
       "<pandas.io.formats.style.Styler at 0x7f2a21476610>"
      ]
     },
     "execution_count": 33,
     "metadata": {},
     "output_type": "execute_result"
    }
   ],
   "source": [
    "df_accuracy_results_compare.style.set_properties(**{'text-align': 'left'}).hide_index().set_table_styles([ dict(selector='th', props=[('text-align', 'left')])])"
   ]
  },
  {
   "cell_type": "markdown",
   "metadata": {
    "id": "3fy7iouTo6Lv"
   },
   "source": [
    "## Απεικόνιση F1-Score με πίνακα (χρόνοι σε seconds)"
   ]
  },
  {
   "cell_type": "code",
   "execution_count": null,
   "metadata": {
    "colab": {
     "base_uri": "https://localhost:8080/",
     "height": 307
    },
    "id": "Ye8pDa6Yo8wz",
    "outputId": "d456ad8e-2265-479e-f096-2e7543a292c2"
   },
   "outputs": [
    {
     "data": {
      "text/html": [
       "<style  type=\"text/css\" >\n",
       "    #T_938603f2_5304_11ec_8157_0242ac1c0002 th {\n",
       "          text-align: left;\n",
       "    }#T_938603f2_5304_11ec_8157_0242ac1c0002row0_col0,#T_938603f2_5304_11ec_8157_0242ac1c0002row0_col1,#T_938603f2_5304_11ec_8157_0242ac1c0002row0_col2,#T_938603f2_5304_11ec_8157_0242ac1c0002row0_col3,#T_938603f2_5304_11ec_8157_0242ac1c0002row0_col4,#T_938603f2_5304_11ec_8157_0242ac1c0002row0_col5,#T_938603f2_5304_11ec_8157_0242ac1c0002row0_col6,#T_938603f2_5304_11ec_8157_0242ac1c0002row1_col0,#T_938603f2_5304_11ec_8157_0242ac1c0002row1_col1,#T_938603f2_5304_11ec_8157_0242ac1c0002row1_col2,#T_938603f2_5304_11ec_8157_0242ac1c0002row1_col3,#T_938603f2_5304_11ec_8157_0242ac1c0002row1_col4,#T_938603f2_5304_11ec_8157_0242ac1c0002row1_col5,#T_938603f2_5304_11ec_8157_0242ac1c0002row1_col6,#T_938603f2_5304_11ec_8157_0242ac1c0002row2_col0,#T_938603f2_5304_11ec_8157_0242ac1c0002row2_col1,#T_938603f2_5304_11ec_8157_0242ac1c0002row2_col2,#T_938603f2_5304_11ec_8157_0242ac1c0002row2_col3,#T_938603f2_5304_11ec_8157_0242ac1c0002row2_col4,#T_938603f2_5304_11ec_8157_0242ac1c0002row2_col5,#T_938603f2_5304_11ec_8157_0242ac1c0002row2_col6,#T_938603f2_5304_11ec_8157_0242ac1c0002row3_col0,#T_938603f2_5304_11ec_8157_0242ac1c0002row3_col1,#T_938603f2_5304_11ec_8157_0242ac1c0002row3_col2,#T_938603f2_5304_11ec_8157_0242ac1c0002row3_col3,#T_938603f2_5304_11ec_8157_0242ac1c0002row3_col4,#T_938603f2_5304_11ec_8157_0242ac1c0002row3_col5,#T_938603f2_5304_11ec_8157_0242ac1c0002row3_col6,#T_938603f2_5304_11ec_8157_0242ac1c0002row4_col0,#T_938603f2_5304_11ec_8157_0242ac1c0002row4_col1,#T_938603f2_5304_11ec_8157_0242ac1c0002row4_col2,#T_938603f2_5304_11ec_8157_0242ac1c0002row4_col3,#T_938603f2_5304_11ec_8157_0242ac1c0002row4_col4,#T_938603f2_5304_11ec_8157_0242ac1c0002row4_col5,#T_938603f2_5304_11ec_8157_0242ac1c0002row4_col6,#T_938603f2_5304_11ec_8157_0242ac1c0002row5_col0,#T_938603f2_5304_11ec_8157_0242ac1c0002row5_col1,#T_938603f2_5304_11ec_8157_0242ac1c0002row5_col2,#T_938603f2_5304_11ec_8157_0242ac1c0002row5_col3,#T_938603f2_5304_11ec_8157_0242ac1c0002row5_col4,#T_938603f2_5304_11ec_8157_0242ac1c0002row5_col5,#T_938603f2_5304_11ec_8157_0242ac1c0002row5_col6{\n",
       "            text-align:  left;\n",
       "        }</style><table id=\"T_938603f2_5304_11ec_8157_0242ac1c0002\" class=\"dataframe\"><thead>    <tr>        <th class=\"col_heading level0 col0\" >Index</th>        <th class=\"col_heading level0 col1\" >Classifier</th>        <th class=\"col_heading level0 col2\" >Dataset Optimized</th>        <th class=\"col_heading level0 col3\" >Classifier Optimized</th>        <th class=\"col_heading level0 col4\" >Train Time</th>        <th class=\"col_heading level0 col5\" >Test Time</th>        <th class=\"col_heading level0 col6\" >F1-Score</th>    </tr></thead><tbody>\n",
       "                <tr>\n",
       "                                <td id=\"T_938603f2_5304_11ec_8157_0242ac1c0002row0_col0\" class=\"data row0 col0\" >1</td>\n",
       "                        <td id=\"T_938603f2_5304_11ec_8157_0242ac1c0002row0_col1\" class=\"data row0 col1\" >Logistic Regression(optimized)</td>\n",
       "                        <td id=\"T_938603f2_5304_11ec_8157_0242ac1c0002row0_col2\" class=\"data row0 col2\" >[VarianceThreshold(threshold=0.15), SMOTE(sampling_strategy=0.8), PCA(n_components=3)]</td>\n",
       "                        <td id=\"T_938603f2_5304_11ec_8157_0242ac1c0002row0_col3\" class=\"data row0 col3\" >HyperParameters = ['logreg__C = 1.0', 'logreg__max_iter = 300', 'logreg__penalty = l2', 'logreg__solver = liblinear']</td>\n",
       "                        <td id=\"T_938603f2_5304_11ec_8157_0242ac1c0002row0_col4\" class=\"data row0 col4\" >783.834656</td>\n",
       "                        <td id=\"T_938603f2_5304_11ec_8157_0242ac1c0002row0_col5\" class=\"data row0 col5\" >0.000584</td>\n",
       "                        <td id=\"T_938603f2_5304_11ec_8157_0242ac1c0002row0_col6\" class=\"data row0 col6\" >0.747872</td>\n",
       "            </tr>\n",
       "            <tr>\n",
       "                                <td id=\"T_938603f2_5304_11ec_8157_0242ac1c0002row1_col0\" class=\"data row1 col0\" >2</td>\n",
       "                        <td id=\"T_938603f2_5304_11ec_8157_0242ac1c0002row1_col1\" class=\"data row1 col1\" >Knn Neighbors(optimized)</td>\n",
       "                        <td id=\"T_938603f2_5304_11ec_8157_0242ac1c0002row1_col2\" class=\"data row1 col2\" >[RandomOverSampler(), PCA(n_components=3)]</td>\n",
       "                        <td id=\"T_938603f2_5304_11ec_8157_0242ac1c0002row1_col3\" class=\"data row1 col3\" >Neigbors = 2, P = 1</td>\n",
       "                        <td id=\"T_938603f2_5304_11ec_8157_0242ac1c0002row1_col4\" class=\"data row1 col4\" >35.154303</td>\n",
       "                        <td id=\"T_938603f2_5304_11ec_8157_0242ac1c0002row1_col5\" class=\"data row1 col5\" >0.103762</td>\n",
       "                        <td id=\"T_938603f2_5304_11ec_8157_0242ac1c0002row1_col6\" class=\"data row1 col6\" >0.729617</td>\n",
       "            </tr>\n",
       "            <tr>\n",
       "                                <td id=\"T_938603f2_5304_11ec_8157_0242ac1c0002row2_col0\" class=\"data row2 col0\" >3</td>\n",
       "                        <td id=\"T_938603f2_5304_11ec_8157_0242ac1c0002row2_col1\" class=\"data row2 col1\" >Gaussian NB(optimized)</td>\n",
       "                        <td id=\"T_938603f2_5304_11ec_8157_0242ac1c0002row2_col2\" class=\"data row2 col2\" >[VarianceThreshold(threshold=0.1), SMOTE(sampling_strategy=0.6), PCA(n_components=6)]</td>\n",
       "                        <td id=\"T_938603f2_5304_11ec_8157_0242ac1c0002row2_col3\" class=\"data row2 col3\" >Var_smoothing = 1e-08</td>\n",
       "                        <td id=\"T_938603f2_5304_11ec_8157_0242ac1c0002row2_col4\" class=\"data row2 col4\" >40.739691</td>\n",
       "                        <td id=\"T_938603f2_5304_11ec_8157_0242ac1c0002row2_col5\" class=\"data row2 col5\" >0.000606</td>\n",
       "                        <td id=\"T_938603f2_5304_11ec_8157_0242ac1c0002row2_col6\" class=\"data row2 col6\" >0.728571</td>\n",
       "            </tr>\n",
       "            <tr>\n",
       "                                <td id=\"T_938603f2_5304_11ec_8157_0242ac1c0002row3_col0\" class=\"data row3 col0\" >4</td>\n",
       "                        <td id=\"T_938603f2_5304_11ec_8157_0242ac1c0002row3_col1\" class=\"data row3 col1\" >Logistic Regression(out-of-the-box)</td>\n",
       "                        <td id=\"T_938603f2_5304_11ec_8157_0242ac1c0002row3_col2\" class=\"data row3 col2\" >default dataset</td>\n",
       "                        <td id=\"T_938603f2_5304_11ec_8157_0242ac1c0002row3_col3\" class=\"data row3 col3\" >default parameters</td>\n",
       "                        <td id=\"T_938603f2_5304_11ec_8157_0242ac1c0002row3_col4\" class=\"data row3 col4\" >0.005822</td>\n",
       "                        <td id=\"T_938603f2_5304_11ec_8157_0242ac1c0002row3_col5\" class=\"data row3 col5\" >0.000205</td>\n",
       "                        <td id=\"T_938603f2_5304_11ec_8157_0242ac1c0002row3_col6\" class=\"data row3 col6\" >0.711111</td>\n",
       "            </tr>\n",
       "            <tr>\n",
       "                                <td id=\"T_938603f2_5304_11ec_8157_0242ac1c0002row4_col0\" class=\"data row4 col0\" >5</td>\n",
       "                        <td id=\"T_938603f2_5304_11ec_8157_0242ac1c0002row4_col1\" class=\"data row4 col1\" >Knn Neighbors(out-of-the-box)</td>\n",
       "                        <td id=\"T_938603f2_5304_11ec_8157_0242ac1c0002row4_col2\" class=\"data row4 col2\" >default dataset</td>\n",
       "                        <td id=\"T_938603f2_5304_11ec_8157_0242ac1c0002row4_col3\" class=\"data row4 col3\" >default parameters</td>\n",
       "                        <td id=\"T_938603f2_5304_11ec_8157_0242ac1c0002row4_col4\" class=\"data row4 col4\" >0.001341</td>\n",
       "                        <td id=\"T_938603f2_5304_11ec_8157_0242ac1c0002row4_col5\" class=\"data row4 col5\" >0.002521</td>\n",
       "                        <td id=\"T_938603f2_5304_11ec_8157_0242ac1c0002row4_col6\" class=\"data row4 col6\" >0.694497</td>\n",
       "            </tr>\n",
       "            <tr>\n",
       "                                <td id=\"T_938603f2_5304_11ec_8157_0242ac1c0002row5_col0\" class=\"data row5 col0\" >6</td>\n",
       "                        <td id=\"T_938603f2_5304_11ec_8157_0242ac1c0002row5_col1\" class=\"data row5 col1\" >Gaussian NB(out-of-the-box)</td>\n",
       "                        <td id=\"T_938603f2_5304_11ec_8157_0242ac1c0002row5_col2\" class=\"data row5 col2\" >default dataset</td>\n",
       "                        <td id=\"T_938603f2_5304_11ec_8157_0242ac1c0002row5_col3\" class=\"data row5 col3\" >default parameters</td>\n",
       "                        <td id=\"T_938603f2_5304_11ec_8157_0242ac1c0002row5_col4\" class=\"data row5 col4\" >0.000680</td>\n",
       "                        <td id=\"T_938603f2_5304_11ec_8157_0242ac1c0002row5_col5\" class=\"data row5 col5\" >0.000256</td>\n",
       "                        <td id=\"T_938603f2_5304_11ec_8157_0242ac1c0002row5_col6\" class=\"data row5 col6\" >0.683333</td>\n",
       "            </tr>\n",
       "    </tbody></table>"
      ],
      "text/plain": [
       "<pandas.io.formats.style.Styler at 0x7f2a1cb84490>"
      ]
     },
     "execution_count": 34,
     "metadata": {},
     "output_type": "execute_result"
    }
   ],
   "source": [
    "df_f1_scores_compare.style.set_properties(**{'text-align': 'left'}).hide_index().set_table_styles([ dict(selector='th', props=[('text-align', 'left')])])"
   ]
  },
  {
   "cell_type": "markdown",
   "metadata": {
    "id": "obnJcrnqXlGl"
   },
   "source": [
    "## Παρακάτω απεικονίζουμε τις αποδόσεις των ταξινομητών (βελτιστοποιημένων και μη) ως προς το accuracy σε bar plot σύγκρισης."
   ]
  },
  {
   "cell_type": "code",
   "execution_count": null,
   "metadata": {
    "colab": {
     "base_uri": "https://localhost:8080/",
     "height": 413
    },
    "id": "u8oF--liXnu-",
    "outputId": "28c8a046-d1ee-483f-9bbc-3a0cd515e638"
   },
   "outputs": [
    {
     "data": {
      "image/png": "[encoded data removed]",
      "text/plain": [
       "<Figure size 1800x432 with 1 Axes>"
      ]
     },
     "metadata": {},
     "output_type": "display_data"
    }
   ],
   "source": [
    "accuracy_classifiers_compare_plot = []\n",
    "accuracy_results_compare_plot = []\n",
    "for i in range(len(dataFrame_accuracy_results_compare)):\n",
    "  accuracy_classifiers_compare_plot.append(dataFrame_accuracy_results_compare[i][1])\n",
    "  accuracy_results_compare_plot.append(dataFrame_accuracy_results_compare[i][6])\n",
    "\n",
    "fig = plt.figure(figsize = (25, 6), facecolor='#dedbdb')\n",
    " \n",
    "# creating the bar plot\n",
    "plt.bar(accuracy_classifiers_compare_plot, accuracy_results_compare_plot, color=\t\"#2980b9\", edgecolor ='black',\n",
    "        width = 0.35)\n",
    " \n",
    "plt.xlabel(\"Classifiers\", fontweight='bold', fontsize=\"14\", )\n",
    "plt.ylabel(\"Accuracy Score\", fontweight='bold', fontsize=\"14\")\n",
    "plt.title(\"Compare Classifiers by Accuracy (30% test set)\", fontweight='bold',fontsize=\"14\")\n",
    "plt.tick_params(colors='#471e1e', axis='both', labelsize=14)\n",
    "plt.rcParams.update({'font.family':'sans-serif'})\n",
    "plt.rcParams.update({'axes.facecolor':'#dedbdb'})\n",
    "plt.show()"
   ]
  },
  {
   "cell_type": "markdown",
   "metadata": {
    "id": "UWC4wamhjpK9"
   },
   "source": [
    "## Παρακάτω απεικονίζουμε τις αποδόσεις των ταξινομητών (βελτιστοποιημένων και μη) ως προς το F1-Score σε bar plot σύγκρισης."
   ]
  },
  {
   "cell_type": "code",
   "execution_count": null,
   "metadata": {
    "colab": {
     "base_uri": "https://localhost:8080/",
     "height": 413
    },
    "id": "48QUzzO9jzKP",
    "outputId": "a17ba578-f3af-4ce7-c0d8-cb8fa194b86a"
   },
   "outputs": [
    {
     "data": {
      "image/png": "[encoded data removed]",
      "text/plain": [
       "<Figure size 1800x432 with 1 Axes>"
      ]
     },
     "metadata": {},
     "output_type": "display_data"
    }
   ],
   "source": [
    "f1_score_classifiers_compare_plot = []\n",
    "f1_score_results_compare_plot = []\n",
    "for i in range(len(dataFrame_f1_scores_compare)):\n",
    "  f1_score_classifiers_compare_plot.append(dataFrame_f1_scores_compare[i][1])\n",
    "  f1_score_results_compare_plot.append(dataFrame_f1_scores_compare[i][6])\n",
    "  \n",
    "fig = plt.figure(figsize = (25, 6), facecolor='#dedbdb')\n",
    " \n",
    "# creating the bar plot\n",
    "plt.bar(f1_score_classifiers_compare_plot, f1_score_results_compare_plot, color=\t\"#2980b9\", edgecolor ='black',\n",
    "        width = 0.35)\n",
    " \n",
    "plt.xlabel(\"Classifiers\", fontweight='bold', fontsize=\"14\")\n",
    "plt.ylabel(\"F1 Score\", fontweight='bold', fontsize=\"14\")\n",
    "plt.title(\"Compare Classifiers by F1-score, average = 'weighted' (30% test set)\", fontweight='bold',fontsize=\"14\")\n",
    "plt.tick_params(colors='#471e1e', axis='both', labelsize=14)\n",
    "plt.rcParams.update({'font.family':'sans-serif'})\n",
    "plt.rcParams.update({'axes.facecolor':'#dedbdb'})\n",
    "plt.show()"
   ]
  },
  {
   "cell_type": "markdown",
   "metadata": {
    "id": "L6dw_YvAkbEq"
   },
   "source": [
    "#Σχολιασμός Βελτιστοποιημένης Επίδοσης\n",
    "\n",
    "### Εισαγωγικά μπορούμε να πούμε πως εκτελέσαμε διαφορετικούς συνδυασμούς για τη βελτιστοποίηση των ταξινομητών. Δοκιμάσαμε διαφορετικούς συνδυασμούς προεπεξεργασίας των δεδομένων και διαφορετικές τιμές στις υπερπαραμέτρους των ταξινομητών. \n",
    "\n",
    "### Συγκεκριμένα στον KNeighborsClassifier εξετάσαμε τις περιπτώσεις όπου n_neighbors = [1, 2, 3, 4, 5, 11]. Στον GaussianNB εξετάσαμε τις περιπτώσεις όπου var_smoothing = [1e-8, 1e-9, 1e-10, 1e-11, 1e-12]. Στον LogisticRegression εξετάσαμε τις περιπτώσεις όπου penalty = ['l1', 'l2'], solver = ['liblinear', 'lbfgs'], max_iter = [300, 100, 80, 50] και C = [1.0, 0.9, 0.8]. Οι τελικές επιλογές ύστερα από τους συνδυασμούς βρίσκονται στους πίνακες (DataFrame) accuracy και F1-Score. Τέλος επιλέχθηκαν διαφορετικές υπερπαράμετροι για βελτιστοποίηση ως προς F1-Score από ότι για Accuracy.\n",
    "\n",
    "### Για την προεπεξεργασία των δεδομένων δοκιμάσαμε να εξετάσουμε συνδυασμούς μεταξύ των VarianceThreshold(), StandardScaler(), RandomOverSampler() ή SMOTE() και PCA(). Ωστόσο εξετάσαμε παραμέτρους μόνο στους VarianceThreshold(), SMOTE() και PCA(). Για τους υπόλοιπους, προς εξοικονόμηση χρόνου, πήραμε default τιμές παραμέτρων. Οι τελικές επιλογές ύστερα από τους συνδυασμούς βρίσκονται στους πίνακες (DataFrame) accuracy και F1-Score. Τέλος επιλέχθηκαν διαφορετικοί συνδυασμοί προεπεξεργασίας δεδομένων για βελτιστοποίηση ως προς F1-Score από ότι για Accuracy.\n",
    "\n",
    "### Έχοντας αναφερεί όλα τα παραπάνω πρέπει να υπενθυμίσουμε πως έχουμε ένα πολύ μικρό dataset με λίγα δείγματα και λίγα χαρακτηριστικά, κάτι το οποίο καθιστά δύσκολο την εκπαίδευση ενός ταξινομητή. Αυτό φάνηκε εξαρχής όπου οι ταξινομητές χωρίς βελτιστοποίηση δε ξεπέρασαν σε επιδόσεις τον DummyClassifier και το παρατηρούμε και στα παραπάνω διαγράμματα/πίνακες που προκύπτουν μετά τη βελτιστοποίηση. Δηλαδή αν και βελτιστοποιημένοι οι ταξινομητές μας αδυνατούν να βελτιωθούν αρκετά. Έχουν καλύτερες επιδόσεις συγκριτικά με την out-of-the-box επίδοση τους, αλλά σε ένα μέτριο βαθμό. Παρατηρούμε πως λόγω του imbalanced dataset υπάρχουν περιπτώσεις όπου χρησιμοποιείται RandomOverSampler() ή SMOTE(), κάτι το οποίο είναι απόλυτα λογικό. Όσες φορές τρέξαμε από την αρχή όλο το notebook παρατηρήσαμε πως πολύ συχνά επιλέχθηκε VarianceThreshold(threshold=0) δηλαδή να καταργηθούν τα χαρακτηριστικά που έχουν την ίδια τιμή σε όλα τα δείγματα κάτι το οποίο δε συμβαίνει. Κοινώς για τις βέλτιστες λύσεις δεν είχαμε αφαίρεση χαρακτηριστικών. Κάτι τέτοιο είναι λογικό καθώς έχουμε ένα μικρό dataset με 12 χαρακτηριστικά και μια αφαίρεση χαρακτηριστικού οδηγεί σε χειρότερη εκπαίδευση του ταξινομητή. \n",
    "\n",
    "### Χαρακτηριστικό αποτελεί πως μετά τη βελτιστοποίηση και οι 3 ταξινομητές μας δε μπόρεσαν να περάσουν σε accuracy τη μη βελτιστοποιημένη εκπαίδευση του Logistic Regression. Και οι 3 ταξινομητές μετά από τη βελτιστοποίηση χρειάστηκαν κάποιο χρόνο για να φτάσουν το αρχικό accuracy του Logistic Regression. Μάλιστα ο ίδιος ο Logistic Regression μετά από περίπου 13 λεπτά δε πέτυχε καλύτερο accuracy.\n",
    "\n",
    "### Tέλος ο Logistic Regression μετά τη βελτιστοποίηση πέτυχε το καλύτερο F1-Score αλλά χρειάστηκε 13 λεπτά ενώ ο GaussianNB πέτυχε το ελάχιστα χειρότερο F1-Score μετά από 40seconds!"
   ]
  },
  {
   "cell_type": "markdown",
   "metadata": {
    "id": "VfKkMGhar59n"
   },
   "source": [
    "# Πίνακες σύγχυσης"
   ]
  },
  {
   "cell_type": "markdown",
   "metadata": {
    "id": "YjevcbfCsJlV"
   },
   "source": [
    "## Παρακάτω απεικονίζουμε για τον καλύτερο και τον χειρότερο ταξινομητή (εξαιρουμένων των dummy) τους πίνακες σύγχυσης με γραφικό τρόπο.\n",
    "\n",
    "### Στο dictionary best_optimized_options_for_f1 είχαμε κρατήσει για κάθε key ένα value μέσα στο οποίο είχαμε αποθηκεύσει το αντίστοιχο confusion matrix. Aυτό το dictionary έχει μέσα όλες τις πληροφορίες των ταξινομητών που κάναμε train ως προς F1-Score. Παρακάτω ανακτούμε αυτά τα confusion matrix."
   ]
  },
  {
   "cell_type": "code",
   "execution_count": null,
   "metadata": {
    "id": "Vrqx_ECSsRa7"
   },
   "outputs": [],
   "source": [
    "sorted_best_optimized_options_for_f1 = dict(sorted(best_optimized_options_for_f1. items(), key=lambda x: x[1][3], reverse=True))\n",
    "best = 1\n",
    "worst = 3\n",
    "i = 1\n",
    "best_matrix = [[]]\n",
    "worst_matrix = [[]]\n",
    "for k,v in sorted_best_optimized_options_for_f1.items():\n",
    "  # best case confusion matrix\n",
    "  if i == 1:\n",
    "    best_matrix = v[4]\n",
    "  if i == 3:\n",
    "    worst_matrix = v[4]\n",
    "  i += 1\n",
    "#print(best_matrix)\n",
    "#print(worst_matrix)"
   ]
  },
  {
   "cell_type": "markdown",
   "metadata": {
    "id": "nFikUC_hnQNh"
   },
   "source": [
    "## O παρακάτω confusion matrix ανήκει στον optimized Logistic Regression, ο οποίος όπως φαίνεται παραπάνω είναι ο καλύτερος ως προς F1-Score."
   ]
  },
  {
   "cell_type": "code",
   "execution_count": null,
   "metadata": {
    "colab": {
     "base_uri": "https://localhost:8080/",
     "height": 366
    },
    "id": "ik9Se2nbv1D3",
    "outputId": "c5478b6a-f08f-43d8-924a-00ae96f7b881"
   },
   "outputs": [
    {
     "data": {
      "image/png": "[encoded data removed]",
      "text/plain": [
       "<Figure size 720x360 with 2 Axes>"
      ]
     },
     "metadata": {},
     "output_type": "display_data"
    }
   ],
   "source": [
    "import seaborn\n",
    "\n",
    "def plot_confusion_matrix(data, labels):    \n",
    "    seaborn.set(color_codes=True)\n",
    "    plt.figure(figsize = (10, 5), facecolor='#dedbdb')\n",
    "    plt.title(\"Confusion Matrix\", fontweight='bold',fontsize=\"14\")\n",
    "    seaborn.set(font_scale=1.4)\n",
    "    ax = seaborn.heatmap(data, annot=True, cmap=\"Spectral\", cbar_kws={'label': 'Scale'})\n",
    "    ax.set_xticklabels(labels, fontweight='bold', fontsize=\"14\")\n",
    "    ax.set_yticklabels(labels, fontweight='bold', fontsize=\"14\")\n",
    "    ax.set(ylabel=\"True Label\", xlabel=\"Predicted Label\")\n",
    "    ax.xaxis.get_label().set_fontsize(20)\n",
    "    ax.yaxis.get_label().set_fontsize(20)\n",
    " \n",
    "labels = [\"Relax\", \"Planning\"]\n",
    "plot_confusion_matrix(best_matrix, labels)"
   ]
  },
  {
   "cell_type": "markdown",
   "metadata": {
    "id": "3I6Fmye7viPY"
   },
   "source": [
    "### Από το παραπάνω confusion matrix έχουμε πως σε 41 (True Negative) περιπτώσεις βρέθηκε αληθώς η κλάση Relax και σε μόλις 2(True Positive) περιπτώσεις βρέθηκε αληθώς η κλάση Planning. Ωστόσο σε 3 περιπτώσεις (False Positive) ο ταξινομητής μας λανθασμένα κατέταξε τα δείγματα στην κλάση Planning καθώς ανήκουν στην κλάση Relax. Tέλος λανθασμένα κατέταξε 9 περιπτώσεις (False Negative) στην κλάση Relax ενώ ανήκουν στην κλάση Planning. Γενικότερα έχουμε βελτίωση συγκριτικά με τις out-of-the-box επιδόσεις, ωστόσο θα θέλαμε μέσω της βελτιστοποιήσης να μειώναμε έστω τα False Negative, και να αυξάναμε τα σωστά prediction ως προς την κλάση Planning η οποία είναι μειονότητα στο dataset μας. To πιο πιθανό είναι πως αυτές οι 9 μετρήσεις να έμοιαζαν αρκετά με την κλάση Relax ενώ στην πραγματικότητα άνηκαν στην κλάση Planning. Στην περίπτωση αυτής της βελτιστοποίησης δεν είμαστε ικανοποιημένοι καθώς η κλάση που βρίσκεται σε μειοψηφία αδυνατεί να εντοπιστεί."
   ]
  },
  {
   "cell_type": "markdown",
   "metadata": {
    "id": "MpeT87KhoW4t"
   },
   "source": [
    "## O παρακάτω confusion matrix ανήκει στον optimized Gaussian NB, ο οποίος όπως φαίνεται παραπάνω είναι ο χειρότερος ως προς F1-Score.\n",
    "\n"
   ]
  },
  {
   "cell_type": "code",
   "execution_count": null,
   "metadata": {
    "colab": {
     "base_uri": "https://localhost:8080/",
     "height": 366
    },
    "id": "t7VGjofpt8OA",
    "outputId": "e35162c0-6c29-46f4-a83a-68159b0d1612"
   },
   "outputs": [
    {
     "data": {
      "image/png": "[encoded data removed]",
      "text/plain": [
       "<Figure size 720x360 with 2 Axes>"
      ]
     },
     "metadata": {},
     "output_type": "display_data"
    }
   ],
   "source": [
    "plot_confusion_matrix(worst_matrix, labels)"
   ]
  },
  {
   "cell_type": "markdown",
   "metadata": {
    "id": "L-N-U6o6orXY"
   },
   "source": [
    "### Το παραπάνω confusion matrix του optimized Gaussian NB βρίσκεται σε χειρότερη θέση παρόλο που έχουν γίνει βελτιστοποιήσεις. Eνώ προέβλεψε σχέδον ίδιο αριθμό Τrue Negative έχουμε ελαφριά αύξηση των False Negative και ελαφριά μείωση των False Positive."
   ]
  },
  {
   "cell_type": "markdown",
   "metadata": {
    "id": "uAZZhHad5--A"
   },
   "source": [
    "## Γενικός Σχολιασμός\n",
    "\n",
    "### Σε γενικές γραμμές παρατηρήσαμε μια μέτρια βελτίωση του Logistic Regression κάτι το οποίο φαίνεται στα παραπάνω διαγράμματα/πίνακες. Αυτό μας δείχνει πως στο παρών dataset ο Logistic Regression έχει τη δυνατότητα να εκπαιδευτεί καλύτερα από τους υπόλοιπους ταξινομητές αλλά σε περισσότερο χρόνο. Οι υπόλοιποι δύο ταξινομήτες πετυχαίνουν ίδιο accuracy (0.8) και ελαφρώς χειρότερο F1-Score σε πολύ λιγότερο χρόνο (0.73 o KNN, 0.73 ο Gaussian NB και 0.75 ο Logistic Regression). Σε γενικές γραμμές ο KNN βρίσκεται πολύ κοντά σε επιδόσεις με τον Logistic Regression αλλά εκτελείται σε πολύ λιγότερο χρόνο και αυτός είναι ο ταξινομητής τον οποίο θα προτείνουμε στο παρών dataset. \n",
    "\n",
    "### Ωστόσο οφείλουμε να παραδεχτούμε πως δεν καλύψαμε όλο το εύρος των δυνατών συνδυασμών προεπεξεργασίας δεδομένων και υπερπαραμέτρων των ταξινομητών. Θα μπορούσαμε να δοκιμάσουμε και άλλες τεχνικές προεπεξεργασίας. Βέβαια, πρόκειται για ένα πολύ μικρό dataset και δεν πρέπει να περιμένουμε δραματικές αλλαγές. Στον kNN Θα μπορούσαμε να δοκιμάσουμε επιπλέον και άλλες υπερπαραμέτρους όπως weights και metric. \n",
    "\n",
    "### Mετά από αναζήτηση σχετικής βιβλιογραφίας (https://ieeexplore.ieee.org/document/7100718, https://www.academia.edu/9480534/Classification_of_EEG_Signals_by_using_Support_Vector_Machines) παρατηρούμε πως η γενική βελτιστοποίηση των ταξινομητών στο παρών Dataset δε ξεπερνάει το 75%."
   ]
  }
 ],
 "metadata": {
  "colab": {
   "collapsed_sections": [
    "CCcGFAb8nULW",
    "dvu0Py-SIY2y"
   ],
   "name": "Εργασία_1_Επιβλεπόμενη_Μάθηση_Ταξινόμηση.ipynb",
   "provenance": []
  },
  "kernelspec": {
   "display_name": "Python 3",
   "language": "python",
   "name": "python3"
  },
  "language_info": {
   "codemirror_mode": {
    "name": "ipython",
    "version": 3
   },
   "file_extension": ".py",
   "mimetype": "text/x-python",
   "name": "python",
   "nbconvert_exporter": "python",
   "pygments_lexer": "ipython3",
   "version": "3.6.9"
  }
 },
 "nbformat": 4,
 "nbformat_minor": 1
}
